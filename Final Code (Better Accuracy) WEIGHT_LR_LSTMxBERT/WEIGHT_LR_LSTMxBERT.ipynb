{
 "cells": [
  {
   "cell_type": "code",
   "execution_count": 1,
   "id": "7YCpFD1f5rQs",
   "metadata": {
    "id": "7YCpFD1f5rQs"
   },
   "outputs": [
    {
     "name": "stdout",
     "output_type": "stream",
     "text": [
      "Requirement already satisfied: Sastrawi in c:\\users\\andre\\anaconda3\\envs\\test_env_gpu\\lib\\site-packages (1.0.1)\n",
      "Note: you may need to restart the kernel to use updated packages.\n"
     ]
    }
   ],
   "source": [
    "pip install -U Sastrawi"
   ]
  },
  {
   "cell_type": "code",
   "execution_count": 2,
   "id": "5d60a5a0-4621-4821-8f4a-bb7adadca865",
   "metadata": {
    "id": "5d60a5a0-4621-4821-8f4a-bb7adadca865"
   },
   "outputs": [
    {
     "name": "stdout",
     "output_type": "stream",
     "text": [
      "Requirement already satisfied: imbalanced-learn in c:\\users\\andre\\anaconda3\\lib\\site-packages (0.12.3)\n",
      "Requirement already satisfied: numpy>=1.17.3 in c:\\users\\andre\\anaconda3\\lib\\site-packages (from imbalanced-learn) (1.23.4)\n",
      "Requirement already satisfied: scipy>=1.5.0 in c:\\users\\andre\\anaconda3\\lib\\site-packages (from imbalanced-learn) (1.11.4)\n",
      "Requirement already satisfied: scikit-learn>=1.0.2 in c:\\users\\andre\\anaconda3\\lib\\site-packages (from imbalanced-learn) (1.2.2)\n",
      "Requirement already satisfied: joblib>=1.1.1 in c:\\users\\andre\\anaconda3\\lib\\site-packages (from imbalanced-learn) (1.2.0)\n",
      "Requirement already satisfied: threadpoolctl>=2.0.0 in c:\\users\\andre\\anaconda3\\lib\\site-packages (from imbalanced-learn) (3.5.0)\n"
     ]
    }
   ],
   "source": [
    "!pip install -U imbalanced-learn"
   ]
  },
  {
   "cell_type": "code",
   "execution_count": 3,
   "id": "200dd7b3-ac7b-4a58-9112-03f1cbfcb7c9",
   "metadata": {
    "id": "200dd7b3-ac7b-4a58-9112-03f1cbfcb7c9"
   },
   "outputs": [
    {
     "name": "stdout",
     "output_type": "stream",
     "text": [
      "Requirement already satisfied: nltk in c:\\users\\andre\\anaconda3\\envs\\test_env_gpu\\lib\\site-packages (3.8.1)\n",
      "Requirement already satisfied: click in c:\\users\\andre\\anaconda3\\envs\\test_env_gpu\\lib\\site-packages (from nltk) (8.1.7)\n",
      "Requirement already satisfied: joblib in c:\\users\\andre\\anaconda3\\envs\\test_env_gpu\\lib\\site-packages (from nltk) (1.4.2)\n",
      "Requirement already satisfied: regex>=2021.8.3 in c:\\users\\andre\\anaconda3\\envs\\test_env_gpu\\lib\\site-packages (from nltk) (2024.5.15)\n",
      "Requirement already satisfied: tqdm in c:\\users\\andre\\anaconda3\\envs\\test_env_gpu\\lib\\site-packages (from nltk) (4.66.4)\n",
      "Requirement already satisfied: colorama in c:\\users\\andre\\anaconda3\\envs\\test_env_gpu\\lib\\site-packages (from click->nltk) (0.4.6)\n",
      "Note: you may need to restart the kernel to use updated packages.\n"
     ]
    }
   ],
   "source": [
    "pip install -U nltk"
   ]
  },
  {
   "cell_type": "code",
   "execution_count": 4,
   "id": "ed118e4d-0e84-4ee3-8bea-14847f891ddb",
   "metadata": {
    "id": "ed118e4d-0e84-4ee3-8bea-14847f891ddb"
   },
   "outputs": [],
   "source": [
    "# reading data\n",
    "import re\n",
    "import string\n",
    "import pandas as pd\n",
    "import matplotlib.pyplot as plt\n",
    "import nltk\n",
    "from nltk.corpus import stopwords\n",
    "from nltk.tokenize import word_tokenize\n",
    "from nltk.stem import WordNetLemmatizer\n",
    "from Sastrawi.StopWordRemover.StopWordRemoverFactory import StopWordRemoverFactory\n",
    "from Sastrawi.Stemmer.StemmerFactory import StemmerFactory\n",
    "import pandas as pd\n",
    "import numpy as np\n",
    "import sklearn\n",
    "from imblearn.over_sampling import SMOTE\n",
    "from sklearn.metrics import balanced_accuracy_score\n",
    "import warnings\n",
    "warnings.filterwarnings(\"ignore\")"
   ]
  },
  {
   "cell_type": "code",
   "execution_count": 5,
   "id": "2a0b5d91-a89d-4fdc-8a16-e628c14f41f9",
   "metadata": {
    "id": "2a0b5d91-a89d-4fdc-8a16-e628c14f41f9"
   },
   "outputs": [
    {
     "data": {
      "text/plain": [
       "True"
      ]
     },
     "execution_count": 5,
     "metadata": {},
     "output_type": "execute_result"
    }
   ],
   "source": [
    "import torch\n",
    "torch.cuda.is_available()"
   ]
  },
  {
   "cell_type": "code",
   "execution_count": 6,
   "id": "9daf5956-791a-4eba-ba67-a835f601f0ee",
   "metadata": {
    "id": "9daf5956-791a-4eba-ba67-a835f601f0ee"
   },
   "outputs": [
    {
     "name": "stderr",
     "output_type": "stream",
     "text": [
      "[nltk_data] Downloading package stopwords to\n",
      "[nltk_data]     C:\\Users\\andre\\AppData\\Roaming\\nltk_data...\n",
      "[nltk_data]   Package stopwords is already up-to-date!\n",
      "[nltk_data] Downloading package punkt to\n",
      "[nltk_data]     C:\\Users\\andre\\AppData\\Roaming\\nltk_data...\n",
      "[nltk_data]   Package punkt is already up-to-date!\n",
      "[nltk_data] Downloading package wordnet to\n",
      "[nltk_data]     C:\\Users\\andre\\AppData\\Roaming\\nltk_data...\n",
      "[nltk_data]   Package wordnet is already up-to-date!\n"
     ]
    },
    {
     "data": {
      "text/plain": [
       "True"
      ]
     },
     "execution_count": 6,
     "metadata": {},
     "output_type": "execute_result"
    }
   ],
   "source": [
    "nltk.download('stopwords')\n",
    "nltk.download('punkt')\n",
    "nltk.download('wordnet')"
   ]
  },
  {
   "cell_type": "code",
   "execution_count": 7,
   "id": "b429f425-816a-47bc-8190-677a65b5f3e7",
   "metadata": {
    "id": "b429f425-816a-47bc-8190-677a65b5f3e7"
   },
   "outputs": [
    {
     "data": {
      "text/html": [
       "<div>\n",
       "<style scoped>\n",
       "    .dataframe tbody tr th:only-of-type {\n",
       "        vertical-align: middle;\n",
       "    }\n",
       "\n",
       "    .dataframe tbody tr th {\n",
       "        vertical-align: top;\n",
       "    }\n",
       "\n",
       "    .dataframe thead th {\n",
       "        text-align: right;\n",
       "    }\n",
       "</style>\n",
       "<table border=\"1\" class=\"dataframe\">\n",
       "  <thead>\n",
       "    <tr style=\"text-align: right;\">\n",
       "      <th></th>\n",
       "      <th>c_text2</th>\n",
       "      <th>label</th>\n",
       "    </tr>\n",
       "  </thead>\n",
       "  <tbody>\n",
       "    <tr>\n",
       "      <th>0</th>\n",
       "      <td>kunjungan prabowo ini untuk meresmikan dan men...</td>\n",
       "      <td>Sumber Daya Alam</td>\n",
       "    </tr>\n",
       "    <tr>\n",
       "      <th>1</th>\n",
       "      <td>anies dapat tepuk tangan meriah saat jadi rekt...</td>\n",
       "      <td>Politik</td>\n",
       "    </tr>\n",
       "    <tr>\n",
       "      <th>2</th>\n",
       "      <td>memang benar sih pendukung ada yang bodoh begi...</td>\n",
       "      <td>Demografi</td>\n",
       "    </tr>\n",
       "    <tr>\n",
       "      <th>3</th>\n",
       "      <td>sewaktu anies bersikap kritis ke kerja pak pra...</td>\n",
       "      <td>Politik</td>\n",
       "    </tr>\n",
       "    <tr>\n",
       "      <th>4</th>\n",
       "      <td>anies baswedan harap asn termasuk tni dan polr...</td>\n",
       "      <td>Politik</td>\n",
       "    </tr>\n",
       "  </tbody>\n",
       "</table>\n",
       "</div>"
      ],
      "text/plain": [
       "                                             c_text2             label\n",
       "0  kunjungan prabowo ini untuk meresmikan dan men...  Sumber Daya Alam\n",
       "1  anies dapat tepuk tangan meriah saat jadi rekt...           Politik\n",
       "2  memang benar sih pendukung ada yang bodoh begi...         Demografi\n",
       "3  sewaktu anies bersikap kritis ke kerja pak pra...           Politik\n",
       "4  anies baswedan harap asn termasuk tni dan polr...           Politik"
      ]
     },
     "execution_count": 7,
     "metadata": {},
     "output_type": "execute_result"
    }
   ],
   "source": [
    "data_cleaned = pd.read_csv('C:/Users/andre/Downloads/SatriaDataScience-main/data_cleaned-no_stemstop.csv', encoding='latin-1')\n",
    "data_cleaned.head()"
   ]
  },
  {
   "cell_type": "code",
   "execution_count": 8,
   "id": "ac59c823-98b2-4189-9ede-bcf3a4244823",
   "metadata": {
    "id": "ac59c823-98b2-4189-9ede-bcf3a4244823"
   },
   "outputs": [
    {
     "data": {
      "text/plain": [
       "c_text2    0\n",
       "label      0\n",
       "dtype: int64"
      ]
     },
     "execution_count": 8,
     "metadata": {},
     "output_type": "execute_result"
    }
   ],
   "source": [
    "# check missing values\n",
    "data_cleaned.isna().sum()"
   ]
  },
  {
   "cell_type": "code",
   "execution_count": 9,
   "id": "a4371d62-b327-49f1-b97b-4554b0dfa4d1",
   "metadata": {
    "id": "a4371d62-b327-49f1-b97b-4554b0dfa4d1"
   },
   "outputs": [
    {
     "data": {
      "text/plain": [
       "(4264, 2)"
      ]
     },
     "execution_count": 9,
     "metadata": {},
     "output_type": "execute_result"
    }
   ],
   "source": [
    "# check data shape\n",
    "data_cleaned.shape"
   ]
  },
  {
   "cell_type": "code",
   "execution_count": 10,
   "id": "99d5a960-c2c7-4723-9286-b07039fb789f",
   "metadata": {
    "id": "99d5a960-c2c7-4723-9286-b07039fb789f"
   },
   "outputs": [
    {
     "data": {
      "image/png": "[encoded data removed]",
      "text/plain": [
       "<Figure size 640x480 with 1 Axes>"
      ]
     },
     "metadata": {},
     "output_type": "display_data"
    }
   ],
   "source": [
    "# check target balance\n",
    "data_cleaned['label'].value_counts(normalize = True).plot.bar()\n",
    "plt.show()"
   ]
  },
  {
   "cell_type": "code",
   "execution_count": 11,
   "id": "278ac3c8-26c5-4568-a877-90839a2104bf",
   "metadata": {
    "id": "278ac3c8-26c5-4568-a877-90839a2104bf"
   },
   "outputs": [
    {
     "data": {
      "text/plain": [
       "0        NonP\n",
       "1     Politik\n",
       "2        NonP\n",
       "3     Politik\n",
       "4     Politik\n",
       "5     Politik\n",
       "6        NonP\n",
       "7     Politik\n",
       "8     Politik\n",
       "9     Politik\n",
       "10       NonP\n",
       "11       NonP\n",
       "12       NonP\n",
       "13    Politik\n",
       "14       NonP\n",
       "Name: label2, dtype: object"
      ]
     },
     "execution_count": 11,
     "metadata": {},
     "output_type": "execute_result"
    }
   ],
   "source": [
    "data_cleaned_2Class = data_cleaned.copy()\n",
    "data_cleaned_2Class['label2'] = data_cleaned['label']\n",
    "\n",
    "data_cleaned_2Class.loc[(data_cleaned_2Class['label2'] != 'Politik'), 'label2'] = 'NonP'\n",
    "\n",
    "data_cleaned_2Class['label2'].head(15)"
   ]
  },
  {
   "cell_type": "code",
   "execution_count": 12,
   "id": "5280b3f1-ec8e-410c-855a-fbccac8b8a2b",
   "metadata": {
    "id": "5280b3f1-ec8e-410c-855a-fbccac8b8a2b"
   },
   "outputs": [
    {
     "data": {
      "image/png": "[encoded data removed]",
      "text/plain": [
       "<Figure size 640x480 with 1 Axes>"
      ]
     },
     "metadata": {},
     "output_type": "display_data"
    }
   ],
   "source": [
    "data_cleaned_2Class['label2'].value_counts(normalize = True).plot.bar()\n",
    "plt.show()"
   ]
  },
  {
   "cell_type": "code",
   "execution_count": 13,
   "id": "1560d5ee-b08f-41a5-abb7-85b2c3787ac7",
   "metadata": {
    "id": "1560d5ee-b08f-41a5-abb7-85b2c3787ac7"
   },
   "outputs": [
    {
     "data": {
      "text/html": [
       "<div>\n",
       "<style scoped>\n",
       "    .dataframe tbody tr th:only-of-type {\n",
       "        vertical-align: middle;\n",
       "    }\n",
       "\n",
       "    .dataframe tbody tr th {\n",
       "        vertical-align: top;\n",
       "    }\n",
       "\n",
       "    .dataframe thead th {\n",
       "        text-align: right;\n",
       "    }\n",
       "</style>\n",
       "<table border=\"1\" class=\"dataframe\">\n",
       "  <thead>\n",
       "    <tr style=\"text-align: right;\">\n",
       "      <th></th>\n",
       "      <th>c_text2</th>\n",
       "      <th>label</th>\n",
       "      <th>label2</th>\n",
       "    </tr>\n",
       "  </thead>\n",
       "  <tbody>\n",
       "    <tr>\n",
       "      <th>0</th>\n",
       "      <td>kunjungan prabowo ini untuk meresmikan dan men...</td>\n",
       "      <td>Sumber Daya Alam</td>\n",
       "      <td>NonP</td>\n",
       "    </tr>\n",
       "    <tr>\n",
       "      <th>1</th>\n",
       "      <td>anies dapat tepuk tangan meriah saat jadi rekt...</td>\n",
       "      <td>Politik</td>\n",
       "      <td>Politik</td>\n",
       "    </tr>\n",
       "    <tr>\n",
       "      <th>2</th>\n",
       "      <td>memang benar sih pendukung ada yang bodoh begi...</td>\n",
       "      <td>Demografi</td>\n",
       "      <td>NonP</td>\n",
       "    </tr>\n",
       "    <tr>\n",
       "      <th>3</th>\n",
       "      <td>sewaktu anies bersikap kritis ke kerja pak pra...</td>\n",
       "      <td>Politik</td>\n",
       "      <td>Politik</td>\n",
       "    </tr>\n",
       "    <tr>\n",
       "      <th>4</th>\n",
       "      <td>anies baswedan harap asn termasuk tni dan polr...</td>\n",
       "      <td>Politik</td>\n",
       "      <td>Politik</td>\n",
       "    </tr>\n",
       "  </tbody>\n",
       "</table>\n",
       "</div>"
      ],
      "text/plain": [
       "                                             c_text2             label  \\\n",
       "0  kunjungan prabowo ini untuk meresmikan dan men...  Sumber Daya Alam   \n",
       "1  anies dapat tepuk tangan meriah saat jadi rekt...           Politik   \n",
       "2  memang benar sih pendukung ada yang bodoh begi...         Demografi   \n",
       "3  sewaktu anies bersikap kritis ke kerja pak pra...           Politik   \n",
       "4  anies baswedan harap asn termasuk tni dan polr...           Politik   \n",
       "\n",
       "    label2  \n",
       "0     NonP  \n",
       "1  Politik  \n",
       "2     NonP  \n",
       "3  Politik  \n",
       "4  Politik  "
      ]
     },
     "execution_count": 13,
     "metadata": {},
     "output_type": "execute_result"
    }
   ],
   "source": [
    "data_cleaned_2Class.head(5)"
   ]
  },
  {
   "cell_type": "code",
   "execution_count": 14,
   "id": "rioriSMY52aI",
   "metadata": {
    "id": "rioriSMY52aI"
   },
   "outputs": [
    {
     "name": "stdout",
     "output_type": "stream",
     "text": [
      "Requirement already satisfied: nlp_id in c:\\users\\andre\\anaconda3\\lib\\site-packages (0.1.15.0)\n",
      "Requirement already satisfied: scikit-learn==1.2.2 in c:\\users\\andre\\anaconda3\\lib\\site-packages (from nlp_id) (1.2.2)\n",
      "Requirement already satisfied: nltk==3.8.1 in c:\\users\\andre\\anaconda3\\lib\\site-packages (from nlp_id) (3.8.1)\n",
      "Requirement already satisfied: wget==3.2 in c:\\users\\andre\\anaconda3\\lib\\site-packages (from nlp_id) (3.2)\n",
      "Requirement already satisfied: pytest==7.3.1 in c:\\users\\andre\\anaconda3\\lib\\site-packages (from nlp_id) (7.3.1)\n",
      "Requirement already satisfied: click in c:\\users\\andre\\anaconda3\\lib\\site-packages (from nltk==3.8.1->nlp_id) (8.1.7)\n",
      "Requirement already satisfied: joblib in c:\\users\\andre\\anaconda3\\lib\\site-packages (from nltk==3.8.1->nlp_id) (1.2.0)\n",
      "Requirement already satisfied: regex>=2021.8.3 in c:\\users\\andre\\anaconda3\\lib\\site-packages (from nltk==3.8.1->nlp_id) (2023.10.3)\n",
      "Requirement already satisfied: tqdm in c:\\users\\andre\\anaconda3\\lib\\site-packages (from nltk==3.8.1->nlp_id) (4.65.0)\n",
      "Requirement already satisfied: iniconfig in c:\\users\\andre\\anaconda3\\lib\\site-packages (from pytest==7.3.1->nlp_id) (1.1.1)\n",
      "Requirement already satisfied: packaging in c:\\users\\andre\\anaconda3\\lib\\site-packages (from pytest==7.3.1->nlp_id) (23.1)\n",
      "Requirement already satisfied: pluggy<2.0,>=0.12 in c:\\users\\andre\\anaconda3\\lib\\site-packages (from pytest==7.3.1->nlp_id) (1.0.0)\n",
      "Requirement already satisfied: colorama in c:\\users\\andre\\anaconda3\\lib\\site-packages (from pytest==7.3.1->nlp_id) (0.4.6)\n",
      "Requirement already satisfied: numpy>=1.17.3 in c:\\users\\andre\\anaconda3\\lib\\site-packages (from scikit-learn==1.2.2->nlp_id) (1.23.4)\n",
      "Requirement already satisfied: scipy>=1.3.2 in c:\\users\\andre\\anaconda3\\lib\\site-packages (from scikit-learn==1.2.2->nlp_id) (1.11.4)\n",
      "Requirement already satisfied: threadpoolctl>=2.0.0 in c:\\users\\andre\\anaconda3\\lib\\site-packages (from scikit-learn==1.2.2->nlp_id) (3.5.0)\n"
     ]
    }
   ],
   "source": [
    "!pip install nlp_id"
   ]
  },
  {
   "cell_type": "code",
   "execution_count": 15,
   "id": "4e993e39-d86b-40ba-a95e-d0755d81f67b",
   "metadata": {
    "id": "4e993e39-d86b-40ba-a95e-d0755d81f67b"
   },
   "outputs": [
    {
     "data": {
      "text/html": [
       "<div>\n",
       "<style scoped>\n",
       "    .dataframe tbody tr th:only-of-type {\n",
       "        vertical-align: middle;\n",
       "    }\n",
       "\n",
       "    .dataframe tbody tr th {\n",
       "        vertical-align: top;\n",
       "    }\n",
       "\n",
       "    .dataframe thead th {\n",
       "        text-align: right;\n",
       "    }\n",
       "</style>\n",
       "<table border=\"1\" class=\"dataframe\">\n",
       "  <thead>\n",
       "    <tr style=\"text-align: right;\">\n",
       "      <th></th>\n",
       "      <th>c_text2</th>\n",
       "      <th>label</th>\n",
       "      <th>label2</th>\n",
       "    </tr>\n",
       "  </thead>\n",
       "  <tbody>\n",
       "    <tr>\n",
       "      <th>0</th>\n",
       "      <td>kunjung prabowo resmi serah proyek bantu air b...</td>\n",
       "      <td>Sumber Daya Alam</td>\n",
       "      <td>NonP</td>\n",
       "    </tr>\n",
       "    <tr>\n",
       "      <th>1</th>\n",
       "      <td>anies tepuk tangan riah rektor wajib mata kuli...</td>\n",
       "      <td>Politik</td>\n",
       "      <td>Politik</td>\n",
       "    </tr>\n",
       "    <tr>\n",
       "      <th>2</th>\n",
       "      <td>dukung bodoh dukung ridwan kamil skema balik m...</td>\n",
       "      <td>Demografi</td>\n",
       "      <td>NonP</td>\n",
       "    </tr>\n",
       "    <tr>\n",
       "      <th>3</th>\n",
       "      <td>anies sikap kritis kerja prabowo anggap engga ...</td>\n",
       "      <td>Politik</td>\n",
       "      <td>Politik</td>\n",
       "    </tr>\n",
       "    <tr>\n",
       "      <th>4</th>\n",
       "      <td>anies baswedan harap asn tni polri pegang sump...</td>\n",
       "      <td>Politik</td>\n",
       "      <td>Politik</td>\n",
       "    </tr>\n",
       "  </tbody>\n",
       "</table>\n",
       "</div>"
      ],
      "text/plain": [
       "                                             c_text2             label  \\\n",
       "0  kunjung prabowo resmi serah proyek bantu air b...  Sumber Daya Alam   \n",
       "1  anies tepuk tangan riah rektor wajib mata kuli...           Politik   \n",
       "2  dukung bodoh dukung ridwan kamil skema balik m...         Demografi   \n",
       "3  anies sikap kritis kerja prabowo anggap engga ...           Politik   \n",
       "4  anies baswedan harap asn tni polri pegang sump...           Politik   \n",
       "\n",
       "    label2  \n",
       "0     NonP  \n",
       "1  Politik  \n",
       "2     NonP  \n",
       "3  Politik  \n",
       "4  Politik  "
      ]
     },
     "execution_count": 15,
     "metadata": {},
     "output_type": "execute_result"
    }
   ],
   "source": [
    "# text preprocessing\n",
    "import re\n",
    "from sklearn.base import OneToOneFeatureMixin\n",
    "from nlp_id.lemmatizer import Lemmatizer\n",
    "from nlp_id.tokenizer import Tokenizer\n",
    "from nlp_id.stopword import StopWord\n",
    "\n",
    "lemmatizer = Lemmatizer()\n",
    "tokenizer = Tokenizer()\n",
    "stopword = StopWord()\n",
    "\n",
    "# create a list text\n",
    "text = list(data_cleaned_2Class['c_text2'])\n",
    "\n",
    "corpus = []\n",
    "for i in range(len(text)):\n",
    "    r = re.sub('[^a-zA-Z]', ' ', text[i])\n",
    "    r = r.lower()\n",
    "    r = r.split()\n",
    "    r = [word for word in r if word not in stopword.get_stopword()]\n",
    "    r = [lemmatizer.lemmatize(word) for word in r]\n",
    "    r = ' '.join(r)\n",
    "    corpus.append(r)\n",
    "\n",
    "#assign corpus to data['text']\n",
    "data_cleaned_2Class['c_text2'] = corpus\n",
    "data_cleaned_2Class.head()"
   ]
  },
  {
   "cell_type": "markdown",
   "id": "efac0434-70d0-4ebf-b549-22bedaf4265a",
   "metadata": {
    "id": "efac0434-70d0-4ebf-b549-22bedaf4265a"
   },
   "source": [
    "### Training using 8 classes (Politik and 7 other non political issues) to count balanced accuracy"
   ]
  },
  {
   "cell_type": "code",
   "execution_count": 16,
   "id": "33dfeb16-7d59-4d7b-abd4-75083f7cad88",
   "metadata": {
    "id": "33dfeb16-7d59-4d7b-abd4-75083f7cad88"
   },
   "outputs": [
    {
     "name": "stdout",
     "output_type": "stream",
     "text": [
      "Training Data : (2856,)\n",
      "Testing Data :  (1408,)\n"
     ]
    }
   ],
   "source": [
    "# Create Feature and Label sets using 8 classes\n",
    "X8 = data_cleaned_2Class['c_text2']\n",
    "y8 = data_cleaned_2Class['label']\n",
    "\n",
    "# train test split (66% train - 33% test)\n",
    "from sklearn.model_selection import train_test_split\n",
    "X8_train, X8_test, y8_train, y8_test = train_test_split(X8, y8, test_size=0.33, random_state=123)\n",
    "\n",
    "print('Training Data :', X8_train.shape)\n",
    "print('Testing Data : ', X8_test.shape)"
   ]
  },
  {
   "cell_type": "code",
   "execution_count": 17,
   "id": "76d9be18-c2bd-4d28-9974-1993904f8e2e",
   "metadata": {
    "id": "76d9be18-c2bd-4d28-9974-1993904f8e2e"
   },
   "outputs": [
    {
     "data": {
      "text/plain": [
       "(2856, 7300)"
      ]
     },
     "execution_count": 17,
     "metadata": {},
     "output_type": "execute_result"
    }
   ],
   "source": [
    "# Train Bag of Words model\n",
    "from sklearn.feature_extraction.text import CountVectorizer\n",
    "cv = CountVectorizer()\n",
    "\n",
    "X8_train_cv = cv.fit_transform(X8_train)\n",
    "X8_train_cv.shape"
   ]
  },
  {
   "cell_type": "code",
   "execution_count": 18,
   "id": "7ac4b5b4-e810-45e6-9e10-932bdc8d8f75",
   "metadata": {
    "id": "7ac4b5b4-e810-45e6-9e10-932bdc8d8f75"
   },
   "outputs": [
    {
     "data": {
      "text/plain": [
       "array(['Ideologi', 'Sosial Budaya', 'Politik', ..., 'Sosial Budaya',\n",
       "       'Sumber Daya Alam', 'Politik'], dtype=object)"
      ]
     },
     "execution_count": 18,
     "metadata": {},
     "output_type": "execute_result"
    }
   ],
   "source": [
    "# Training Logistic Regression model\n",
    "from sklearn.linear_model import LogisticRegression\n",
    "lr8 = LogisticRegression(class_weight='balanced')\n",
    "lr8.fit(X8_train_cv, y8_train)\n",
    "\n",
    "# transform X_test using CV\n",
    "X8_test_cv = cv.transform(X8_test)\n",
    "\n",
    "# generate predictions\n",
    "predictions8 = lr8.predict(X8_test_cv)\n",
    "predictions8"
   ]
  },
  {
   "cell_type": "code",
   "execution_count": 19,
   "id": "8c88b1e1-e38a-4aec-a2f4-9d781c9530b5",
   "metadata": {
    "id": "8c88b1e1-e38a-4aec-a2f4-9d781c9530b5"
   },
   "outputs": [
    {
     "data": {
      "text/plain": [
       "array(['Sumber Daya Alam', 'Politik', 'Demografi',\n",
       "       'Pertahanan dan Keamanan', 'Ideologi', 'Ekonomi', 'Sosial Budaya',\n",
       "       'Geografi'], dtype=object)"
      ]
     },
     "execution_count": 19,
     "metadata": {},
     "output_type": "execute_result"
    }
   ],
   "source": [
    "classes = data_cleaned['label'].unique()\n",
    "classes"
   ]
  },
  {
   "cell_type": "code",
   "execution_count": 20,
   "id": "a17406aa-9491-4c85-b611-9714c090d15d",
   "metadata": {
    "id": "a17406aa-9491-4c85-b611-9714c090d15d"
   },
   "outputs": [],
   "source": [
    "classNames = ['Demografi', 'Ekonomi', 'Geografi', 'Ideologi', 'Pertahanan dan Keamanan', 'Politik', 'Sosial Budaya', 'Sumber Daya Alam']"
   ]
  },
  {
   "cell_type": "code",
   "execution_count": 22,
   "id": "696b0f3f-0ff2-418c-9704-74b2c567f985",
   "metadata": {
    "id": "696b0f3f-0ff2-418c-9704-74b2c567f985"
   },
   "outputs": [
    {
     "data": {
      "text/html": [
       "<div>\n",
       "<style scoped>\n",
       "    .dataframe tbody tr th:only-of-type {\n",
       "        vertical-align: middle;\n",
       "    }\n",
       "\n",
       "    .dataframe tbody tr th {\n",
       "        vertical-align: top;\n",
       "    }\n",
       "\n",
       "    .dataframe thead th {\n",
       "        text-align: right;\n",
       "    }\n",
       "</style>\n",
       "<table border=\"1\" class=\"dataframe\">\n",
       "  <thead>\n",
       "    <tr style=\"text-align: right;\">\n",
       "      <th></th>\n",
       "      <th>Demografi</th>\n",
       "      <th>Ekonomi</th>\n",
       "      <th>Geografi</th>\n",
       "      <th>Ideologi</th>\n",
       "      <th>Pertahanan dan Keamanan</th>\n",
       "      <th>Politik</th>\n",
       "      <th>Sosial Budaya</th>\n",
       "      <th>Sumber Daya Alam</th>\n",
       "    </tr>\n",
       "  </thead>\n",
       "  <tbody>\n",
       "    <tr>\n",
       "      <th>Demografi</th>\n",
       "      <td>4</td>\n",
       "      <td>2</td>\n",
       "      <td>0</td>\n",
       "      <td>1</td>\n",
       "      <td>0</td>\n",
       "      <td>5</td>\n",
       "      <td>3</td>\n",
       "      <td>1</td>\n",
       "    </tr>\n",
       "    <tr>\n",
       "      <th>Ekonomi</th>\n",
       "      <td>0</td>\n",
       "      <td>66</td>\n",
       "      <td>0</td>\n",
       "      <td>1</td>\n",
       "      <td>1</td>\n",
       "      <td>15</td>\n",
       "      <td>7</td>\n",
       "      <td>5</td>\n",
       "    </tr>\n",
       "    <tr>\n",
       "      <th>Geografi</th>\n",
       "      <td>0</td>\n",
       "      <td>0</td>\n",
       "      <td>0</td>\n",
       "      <td>0</td>\n",
       "      <td>0</td>\n",
       "      <td>3</td>\n",
       "      <td>2</td>\n",
       "      <td>0</td>\n",
       "    </tr>\n",
       "    <tr>\n",
       "      <th>Ideologi</th>\n",
       "      <td>0</td>\n",
       "      <td>1</td>\n",
       "      <td>0</td>\n",
       "      <td>35</td>\n",
       "      <td>2</td>\n",
       "      <td>43</td>\n",
       "      <td>4</td>\n",
       "      <td>2</td>\n",
       "    </tr>\n",
       "    <tr>\n",
       "      <th>Pertahanan dan Keamanan</th>\n",
       "      <td>0</td>\n",
       "      <td>0</td>\n",
       "      <td>0</td>\n",
       "      <td>2</td>\n",
       "      <td>55</td>\n",
       "      <td>21</td>\n",
       "      <td>2</td>\n",
       "      <td>2</td>\n",
       "    </tr>\n",
       "    <tr>\n",
       "      <th>Politik</th>\n",
       "      <td>8</td>\n",
       "      <td>18</td>\n",
       "      <td>2</td>\n",
       "      <td>52</td>\n",
       "      <td>41</td>\n",
       "      <td>742</td>\n",
       "      <td>49</td>\n",
       "      <td>22</td>\n",
       "    </tr>\n",
       "    <tr>\n",
       "      <th>Sosial Budaya</th>\n",
       "      <td>3</td>\n",
       "      <td>3</td>\n",
       "      <td>0</td>\n",
       "      <td>6</td>\n",
       "      <td>4</td>\n",
       "      <td>49</td>\n",
       "      <td>57</td>\n",
       "      <td>11</td>\n",
       "    </tr>\n",
       "    <tr>\n",
       "      <th>Sumber Daya Alam</th>\n",
       "      <td>2</td>\n",
       "      <td>7</td>\n",
       "      <td>1</td>\n",
       "      <td>0</td>\n",
       "      <td>3</td>\n",
       "      <td>13</td>\n",
       "      <td>10</td>\n",
       "      <td>20</td>\n",
       "    </tr>\n",
       "  </tbody>\n",
       "</table>\n",
       "</div>"
      ],
      "text/plain": [
       "                         Demografi  Ekonomi  Geografi  Ideologi  \\\n",
       "Demografi                        4        2         0         1   \n",
       "Ekonomi                          0       66         0         1   \n",
       "Geografi                         0        0         0         0   \n",
       "Ideologi                         0        1         0        35   \n",
       "Pertahanan dan Keamanan          0        0         0         2   \n",
       "Politik                          8       18         2        52   \n",
       "Sosial Budaya                    3        3         0         6   \n",
       "Sumber Daya Alam                 2        7         1         0   \n",
       "\n",
       "                         Pertahanan dan Keamanan  Politik  Sosial Budaya  \\\n",
       "Demografi                                      0        5              3   \n",
       "Ekonomi                                        1       15              7   \n",
       "Geografi                                       0        3              2   \n",
       "Ideologi                                       2       43              4   \n",
       "Pertahanan dan Keamanan                       55       21              2   \n",
       "Politik                                       41      742             49   \n",
       "Sosial Budaya                                  4       49             57   \n",
       "Sumber Daya Alam                               3       13             10   \n",
       "\n",
       "                         Sumber Daya Alam  \n",
       "Demografi                               1  \n",
       "Ekonomi                                 5  \n",
       "Geografi                                0  \n",
       "Ideologi                                2  \n",
       "Pertahanan dan Keamanan                 2  \n",
       "Politik                                22  \n",
       "Sosial Budaya                          11  \n",
       "Sumber Daya Alam                       20  "
      ]
     },
     "execution_count": 22,
     "metadata": {},
     "output_type": "execute_result"
    }
   ],
   "source": [
    "# confusion matrix\n",
    "import pandas as pd\n",
    "from sklearn import metrics\n",
    "\n",
    "df8_cm = pd.DataFrame(metrics.confusion_matrix(y8_test,predictions8), index=classNames, columns=classNames)\n",
    "df8_cm"
   ]
  },
  {
   "cell_type": "code",
   "execution_count": 23,
   "id": "f550e8b5-7975-4732-8f24-fbf4a5ffb4db",
   "metadata": {
    "id": "f550e8b5-7975-4732-8f24-fbf4a5ffb4db"
   },
   "outputs": [
    {
     "data": {
      "text/plain": [
       "label\n",
       "Politik                    934\n",
       "Sosial Budaya              133\n",
       "Ekonomi                     95\n",
       "Ideologi                    87\n",
       "Pertahanan dan Keamanan     82\n",
       "Sumber Daya Alam            56\n",
       "Demografi                   16\n",
       "Geografi                     5\n",
       "Name: count, dtype: int64"
      ]
     },
     "execution_count": 23,
     "metadata": {},
     "output_type": "execute_result"
    }
   ],
   "source": [
    "# check the number of each label\n",
    "y8_test.value_counts().sort_values(ascending=False)"
   ]
  },
  {
   "cell_type": "code",
   "execution_count": 24,
   "id": "a0da0878-16a8-4cba-aa64-37db24d693dc",
   "metadata": {
    "id": "a0da0878-16a8-4cba-aa64-37db24d693dc"
   },
   "outputs": [
    {
     "data": {
      "text/plain": [
       "Politik                    934\n",
       "Sosial Budaya              133\n",
       "Ekonomi                     95\n",
       "Ideologi                    87\n",
       "Pertahanan dan Keamanan     82\n",
       "Sumber Daya Alam            56\n",
       "Demografi                   16\n",
       "Geografi                     5\n",
       "dtype: int64"
      ]
     },
     "execution_count": 24,
     "metadata": {},
     "output_type": "execute_result"
    }
   ],
   "source": [
    "df8_cm.sum(axis=1).sort_values(ascending=False)"
   ]
  },
  {
   "cell_type": "code",
   "execution_count": 25,
   "id": "af77b6ad-9100-4cd4-9fc5-bf3b753b3dd8",
   "metadata": {
    "id": "af77b6ad-9100-4cd4-9fc5-bf3b753b3dd8"
   },
   "outputs": [],
   "source": [
    "# calculate the scores\n",
    "cnf8_matrix = metrics.confusion_matrix(y8_test,predictions8)\n",
    "\n",
    "FP = cnf8_matrix.sum(axis=0) - np.diag(cnf8_matrix)\n",
    "FN = cnf8_matrix.sum(axis=1) - np.diag(cnf8_matrix)\n",
    "TP = np.diag(cnf8_matrix)\n",
    "TN = cnf8_matrix.sum() - (FP + FN + TP)\n",
    "\n",
    "FP = FP.astype(float)\n",
    "FN = FN.astype(float)\n",
    "TP = TP.astype(float)\n",
    "TN = TN.astype(float)\n",
    "\n",
    "# Sensitivity, hit rate, recall, or true positive rate\n",
    "TPR = TP/(TP+FN)\n",
    "# Specificity or true negative rate\n",
    "TNR = TN/(TN+FP)\n",
    "# Precision or positive predictive value\n",
    "PPV = TP/(TP+FP)\n",
    "# Negative predictive value\n",
    "NPV = TN/(TN+FN)\n",
    "# Fall out or false positive rate\n",
    "FPR = FP/(FP+TN)\n",
    "# False negative rate\n",
    "FNR = FN/(TP+FN)\n",
    "# False discovery rate\n",
    "FDR = FP/(TP+FP)\n",
    "# Overall accuracy\n",
    "ACC = (TP+TN)/(TP+FP+FN+TN)\n"
   ]
  },
  {
   "cell_type": "code",
   "execution_count": 26,
   "id": "ecac7bc1-ceac-45a3-997b-221dc4ed1e14",
   "metadata": {
    "id": "ecac7bc1-ceac-45a3-997b-221dc4ed1e14"
   },
   "outputs": [
    {
     "name": "stdout",
     "output_type": "stream",
     "text": [
      "Balanced accuracy: \n"
     ]
    },
    {
     "data": {
      "text/html": [
       "<div>\n",
       "<style scoped>\n",
       "    .dataframe tbody tr th:only-of-type {\n",
       "        vertical-align: middle;\n",
       "    }\n",
       "\n",
       "    .dataframe tbody tr th {\n",
       "        vertical-align: top;\n",
       "    }\n",
       "\n",
       "    .dataframe thead th {\n",
       "        text-align: right;\n",
       "    }\n",
       "</style>\n",
       "<table border=\"1\" class=\"dataframe\">\n",
       "  <thead>\n",
       "    <tr style=\"text-align: right;\">\n",
       "      <th></th>\n",
       "      <th>class</th>\n",
       "      <th>balanced accuracy</th>\n",
       "    </tr>\n",
       "  </thead>\n",
       "  <tbody>\n",
       "    <tr>\n",
       "      <th>0</th>\n",
       "      <td>Demografi</td>\n",
       "      <td>0.620330</td>\n",
       "    </tr>\n",
       "    <tr>\n",
       "      <th>1</th>\n",
       "      <td>Ekonomi</td>\n",
       "      <td>0.835563</td>\n",
       "    </tr>\n",
       "    <tr>\n",
       "      <th>2</th>\n",
       "      <td>Geografi</td>\n",
       "      <td>0.498931</td>\n",
       "    </tr>\n",
       "    <tr>\n",
       "      <th>3</th>\n",
       "      <td>Ideologi</td>\n",
       "      <td>0.677682</td>\n",
       "    </tr>\n",
       "    <tr>\n",
       "      <th>4</th>\n",
       "      <td>Pertahanan dan Keamanan</td>\n",
       "      <td>0.816135</td>\n",
       "    </tr>\n",
       "    <tr>\n",
       "      <th>5</th>\n",
       "      <td>Politik</td>\n",
       "      <td>0.740043</td>\n",
       "    </tr>\n",
       "    <tr>\n",
       "      <th>6</th>\n",
       "      <td>Sosial Budaya</td>\n",
       "      <td>0.684090</td>\n",
       "    </tr>\n",
       "    <tr>\n",
       "      <th>7</th>\n",
       "      <td>Sumber Daya Alam</td>\n",
       "      <td>0.662669</td>\n",
       "    </tr>\n",
       "  </tbody>\n",
       "</table>\n",
       "</div>"
      ],
      "text/plain": [
       "                     class  balanced accuracy\n",
       "0                Demografi           0.620330\n",
       "1                  Ekonomi           0.835563\n",
       "2                 Geografi           0.498931\n",
       "3                 Ideologi           0.677682\n",
       "4  Pertahanan dan Keamanan           0.816135\n",
       "5                  Politik           0.740043\n",
       "6            Sosial Budaya           0.684090\n",
       "7         Sumber Daya Alam           0.662669"
      ]
     },
     "execution_count": 26,
     "metadata": {},
     "output_type": "execute_result"
    }
   ],
   "source": [
    "# calculate the balanced accuracy score\n",
    "Balanced_Acc8 = 0.5*(TPR + TNR)\n",
    "\n",
    "print(\"Balanced accuracy: \")\n",
    "df8_BA = pd.DataFrame({'class': classNames, 'balanced accuracy' : Balanced_Acc8}, columns=['class', 'balanced accuracy'])\n",
    "df8_BA"
   ]
  },
  {
   "cell_type": "code",
   "execution_count": 27,
   "id": "a67a1fe6-b3f1-4b96-8aac-993d567f86f9",
   "metadata": {
    "id": "a67a1fe6-b3f1-4b96-8aac-993d567f86f9"
   },
   "outputs": [
    {
     "name": "stdout",
     "output_type": "stream",
     "text": [
      "Average accuracy:  0.923828125\n",
      "Average balanced accuracy:  0.6919305164736238\n"
     ]
    }
   ],
   "source": [
    "# average balanced accuracy\n",
    "print('Average accuracy: ', np.mean(ACC))\n",
    "print('Average balanced accuracy: ', df8_BA['balanced accuracy'].mean())"
   ]
  },
  {
   "cell_type": "markdown",
   "id": "2e1d0876-e258-4033-800f-cc434fe1bea2",
   "metadata": {
    "id": "2e1d0876-e258-4033-800f-cc434fe1bea2"
   },
   "source": [
    "### Training using 2 classes to count balanced accuracy"
   ]
  },
  {
   "cell_type": "code",
   "execution_count": 28,
   "id": "36da7870-87c5-4fe7-b6fa-cbecd6df72bb",
   "metadata": {
    "id": "36da7870-87c5-4fe7-b6fa-cbecd6df72bb"
   },
   "outputs": [
    {
     "name": "stdout",
     "output_type": "stream",
     "text": [
      "Training Data : (2856,)\n",
      "Testing Data :  (1408,)\n"
     ]
    }
   ],
   "source": [
    "# Create Feature and Label sets using 2 classes\n",
    "X2 = data_cleaned_2Class['c_text2']\n",
    "y2 = data_cleaned_2Class['label2']\n",
    "\n",
    "# train test split (66% train - 33% test)\n",
    "from sklearn.model_selection import train_test_split\n",
    "X2_train, X2_test, y2_train, y2_test = train_test_split(X2, y2, test_size=0.33, random_state=123)\n",
    "\n",
    "print('Training Data :', X2_train.shape)\n",
    "print('Testing Data : ', X2_test.shape)"
   ]
  },
  {
   "cell_type": "code",
   "execution_count": 29,
   "id": "7fe19808-91b6-4a32-91d7-acfa9bad3e0c",
   "metadata": {
    "id": "7fe19808-91b6-4a32-91d7-acfa9bad3e0c"
   },
   "outputs": [
    {
     "data": {
      "text/plain": [
       "(2856, 7300)"
      ]
     },
     "execution_count": 29,
     "metadata": {},
     "output_type": "execute_result"
    }
   ],
   "source": [
    "# Train Bag of Words model\n",
    "cv2 = CountVectorizer()\n",
    "\n",
    "X2_train_cv = cv2.fit_transform(X2_train)\n",
    "X2_train_cv.shape"
   ]
  },
  {
   "cell_type": "code",
   "execution_count": 41,
   "id": "1a03c8a6-f154-45a0-a1f2-037314c849c5",
   "metadata": {},
   "outputs": [
    {
     "data": {
      "text/plain": [
       "array([1.54712893, 0.73874806])"
      ]
     },
     "execution_count": 41,
     "metadata": {},
     "output_type": "execute_result"
    }
   ],
   "source": [
    "from sklearn.utils.class_weight import compute_class_weight\n",
    "\n",
    "compute_class_weight(class_weight=\"balanced\", classes=np.unique(y2_train), y=y2_train)"
   ]
  },
  {
   "cell_type": "code",
   "execution_count": 335,
   "id": "00f17c01-a9e7-44bd-86f8-579c2f21667b",
   "metadata": {
    "id": "00f17c01-a9e7-44bd-86f8-579c2f21667b"
   },
   "outputs": [
    {
     "data": {
      "text/plain": [
       "array(['NonP', 'NonP', 'Politik', ..., 'NonP', 'NonP', 'Politik'],\n",
       "      dtype=object)"
      ]
     },
     "execution_count": 335,
     "metadata": {},
     "output_type": "execute_result"
    }
   ],
   "source": [
    "# Training Logistic Regression model\n",
    "from sklearn.model_selection import GridSearchCV, cross_val_score\n",
    "from sklearn.metrics import balanced_accuracy_score\n",
    "\n",
    "lr2 = LogisticRegression(class_weight='balanced', C=0.1)\n",
    "\n",
    "param_grid = {\n",
    "    'max_iter':[20,30,40,50],\n",
    "    'multi_class':['ovr','auto']\n",
    "}\n",
    "grid_search = GridSearchCV(lr2, param_grid, cv=5, scoring='balanced_accuracy')\n",
    "grid_search.fit(X2_train_cv, y2_train)\n",
    "\n",
    "# Best model\n",
    "best_model = grid_search.best_estimator_\n",
    "\n",
    "\n",
    "best_model.fit(X2_train_cv, y2_train)\n",
    "\n",
    "# transform X_test using CV\n",
    "X2_test_cv = cv2.transform(X2_test)\n",
    "\n",
    "# generate predictions\n",
    "predictions2 = best_model.predict(X2_test_cv)\n",
    "predictions2"
   ]
  },
  {
   "cell_type": "code",
   "execution_count": 336,
   "id": "b3846311-b50d-4868-8907-1ca9f206d9ca",
   "metadata": {},
   "outputs": [
    {
     "data": {
      "text/html": [
       "<style>#sk-container-id-21 {color: black;background-color: white;}#sk-container-id-21 pre{padding: 0;}#sk-container-id-21 div.sk-toggleable {background-color: white;}#sk-container-id-21 label.sk-toggleable__label {cursor: pointer;display: block;width: 100%;margin-bottom: 0;padding: 0.3em;box-sizing: border-box;text-align: center;}#sk-container-id-21 label.sk-toggleable__label-arrow:before {content: \"▸\";float: left;margin-right: 0.25em;color: #696969;}#sk-container-id-21 label.sk-toggleable__label-arrow:hover:before {color: black;}#sk-container-id-21 div.sk-estimator:hover label.sk-toggleable__label-arrow:before {color: black;}#sk-container-id-21 div.sk-toggleable__content {max-height: 0;max-width: 0;overflow: hidden;text-align: left;background-color: #f0f8ff;}#sk-container-id-21 div.sk-toggleable__content pre {margin: 0.2em;color: black;border-radius: 0.25em;background-color: #f0f8ff;}#sk-container-id-21 input.sk-toggleable__control:checked~div.sk-toggleable__content {max-height: 200px;max-width: 100%;overflow: auto;}#sk-container-id-21 input.sk-toggleable__control:checked~label.sk-toggleable__label-arrow:before {content: \"▾\";}#sk-container-id-21 div.sk-estimator input.sk-toggleable__control:checked~label.sk-toggleable__label {background-color: #d4ebff;}#sk-container-id-21 div.sk-label input.sk-toggleable__control:checked~label.sk-toggleable__label {background-color: #d4ebff;}#sk-container-id-21 input.sk-hidden--visually {border: 0;clip: rect(1px 1px 1px 1px);clip: rect(1px, 1px, 1px, 1px);height: 1px;margin: -1px;overflow: hidden;padding: 0;position: absolute;width: 1px;}#sk-container-id-21 div.sk-estimator {font-family: monospace;background-color: #f0f8ff;border: 1px dotted black;border-radius: 0.25em;box-sizing: border-box;margin-bottom: 0.5em;}#sk-container-id-21 div.sk-estimator:hover {background-color: #d4ebff;}#sk-container-id-21 div.sk-parallel-item::after {content: \"\";width: 100%;border-bottom: 1px solid gray;flex-grow: 1;}#sk-container-id-21 div.sk-label:hover label.sk-toggleable__label {background-color: #d4ebff;}#sk-container-id-21 div.sk-serial::before {content: \"\";position: absolute;border-left: 1px solid gray;box-sizing: border-box;top: 0;bottom: 0;left: 50%;z-index: 0;}#sk-container-id-21 div.sk-serial {display: flex;flex-direction: column;align-items: center;background-color: white;padding-right: 0.2em;padding-left: 0.2em;position: relative;}#sk-container-id-21 div.sk-item {position: relative;z-index: 1;}#sk-container-id-21 div.sk-parallel {display: flex;align-items: stretch;justify-content: center;background-color: white;position: relative;}#sk-container-id-21 div.sk-item::before, #sk-container-id-21 div.sk-parallel-item::before {content: \"\";position: absolute;border-left: 1px solid gray;box-sizing: border-box;top: 0;bottom: 0;left: 50%;z-index: -1;}#sk-container-id-21 div.sk-parallel-item {display: flex;flex-direction: column;z-index: 1;position: relative;background-color: white;}#sk-container-id-21 div.sk-parallel-item:first-child::after {align-self: flex-end;width: 50%;}#sk-container-id-21 div.sk-parallel-item:last-child::after {align-self: flex-start;width: 50%;}#sk-container-id-21 div.sk-parallel-item:only-child::after {width: 0;}#sk-container-id-21 div.sk-dashed-wrapped {border: 1px dashed gray;margin: 0 0.4em 0.5em 0.4em;box-sizing: border-box;padding-bottom: 0.4em;background-color: white;}#sk-container-id-21 div.sk-label label {font-family: monospace;font-weight: bold;display: inline-block;line-height: 1.2em;}#sk-container-id-21 div.sk-label-container {text-align: center;}#sk-container-id-21 div.sk-container {/* jupyter's `normalize.less` sets `[hidden] { display: none; }` but bootstrap.min.css set `[hidden] { display: none !important; }` so we also need the `!important` here to be able to override the default hidden behavior on the sphinx rendered scikit-learn.org. See: https://github.com/scikit-learn/scikit-learn/issues/21755 */display: inline-block !important;position: relative;}#sk-container-id-21 div.sk-text-repr-fallback {display: none;}</style><div id=\"sk-container-id-21\" class=\"sk-top-container\"><div class=\"sk-text-repr-fallback\"><pre>LogisticRegression(C=0.1, class_weight=&#x27;balanced&#x27;, max_iter=30,\n",
       "                   multi_class=&#x27;ovr&#x27;)</pre><b>In a Jupyter environment, please rerun this cell to show the HTML representation or trust the notebook. <br />On GitHub, the HTML representation is unable to render, please try loading this page with nbviewer.org.</b></div><div class=\"sk-container\" hidden><div class=\"sk-item\"><div class=\"sk-estimator sk-toggleable\"><input class=\"sk-toggleable__control sk-hidden--visually\" id=\"sk-estimator-id-21\" type=\"checkbox\" checked><label for=\"sk-estimator-id-21\" class=\"sk-toggleable__label sk-toggleable__label-arrow\">LogisticRegression</label><div class=\"sk-toggleable__content\"><pre>LogisticRegression(C=0.1, class_weight=&#x27;balanced&#x27;, max_iter=30,\n",
       "                   multi_class=&#x27;ovr&#x27;)</pre></div></div></div></div></div>"
      ],
      "text/plain": [
       "LogisticRegression(C=0.1, class_weight='balanced', max_iter=30,\n",
       "                   multi_class='ovr')"
      ]
     },
     "execution_count": 336,
     "metadata": {},
     "output_type": "execute_result"
    }
   ],
   "source": [
    "best_model"
   ]
  },
  {
   "cell_type": "code",
   "execution_count": 337,
   "id": "8d46cd17-0f3d-4849-946a-58ff3c75a617",
   "metadata": {
    "id": "8d46cd17-0f3d-4849-946a-58ff3c75a617"
   },
   "outputs": [],
   "source": [
    "classNamesNP = ['NonP', 'Politik']\n"
   ]
  },
  {
   "cell_type": "code",
   "execution_count": 338,
   "id": "91260c8f-67cb-4198-bf63-b4cad517504d",
   "metadata": {
    "id": "91260c8f-67cb-4198-bf63-b4cad517504d"
   },
   "outputs": [
    {
     "data": {
      "text/html": [
       "<div>\n",
       "<style scoped>\n",
       "    .dataframe tbody tr th:only-of-type {\n",
       "        vertical-align: middle;\n",
       "    }\n",
       "\n",
       "    .dataframe tbody tr th {\n",
       "        vertical-align: top;\n",
       "    }\n",
       "\n",
       "    .dataframe thead th {\n",
       "        text-align: right;\n",
       "    }\n",
       "</style>\n",
       "<table border=\"1\" class=\"dataframe\">\n",
       "  <thead>\n",
       "    <tr style=\"text-align: right;\">\n",
       "      <th></th>\n",
       "      <th>NonP</th>\n",
       "      <th>Politik</th>\n",
       "    </tr>\n",
       "  </thead>\n",
       "  <tbody>\n",
       "    <tr>\n",
       "      <th>NonP</th>\n",
       "      <td>323</td>\n",
       "      <td>151</td>\n",
       "    </tr>\n",
       "    <tr>\n",
       "      <th>Politik</th>\n",
       "      <td>187</td>\n",
       "      <td>747</td>\n",
       "    </tr>\n",
       "  </tbody>\n",
       "</table>\n",
       "</div>"
      ],
      "text/plain": [
       "         NonP  Politik\n",
       "NonP      323      151\n",
       "Politik   187      747"
      ]
     },
     "execution_count": 338,
     "metadata": {},
     "output_type": "execute_result"
    }
   ],
   "source": [
    "# confusion matrix\n",
    "df2_cm = pd.DataFrame(metrics.confusion_matrix(y2_test,predictions2), index=classNamesNP, columns=classNamesNP)\n",
    "df2_cm"
   ]
  },
  {
   "cell_type": "code",
   "execution_count": 339,
   "id": "cc4f62d8-c2f0-4dc0-8d62-e269d7699378",
   "metadata": {
    "id": "cc4f62d8-c2f0-4dc0-8d62-e269d7699378"
   },
   "outputs": [
    {
     "data": {
      "text/plain": [
       "label2\n",
       "Politik    934\n",
       "NonP       474\n",
       "Name: count, dtype: int64"
      ]
     },
     "execution_count": 339,
     "metadata": {},
     "output_type": "execute_result"
    }
   ],
   "source": [
    "# check the number of each label\n",
    "y2_test.value_counts().sort_values(ascending=False)"
   ]
  },
  {
   "cell_type": "code",
   "execution_count": 340,
   "id": "46dc8a0f-d7b4-4854-a8b0-c7e50780cade",
   "metadata": {
    "id": "46dc8a0f-d7b4-4854-a8b0-c7e50780cade"
   },
   "outputs": [
    {
     "data": {
      "text/plain": [
       "Politik    934\n",
       "NonP       474\n",
       "dtype: int64"
      ]
     },
     "execution_count": 340,
     "metadata": {},
     "output_type": "execute_result"
    }
   ],
   "source": [
    "df2_cm.sum(axis=1).sort_values(ascending=False)"
   ]
  },
  {
   "cell_type": "code",
   "execution_count": 341,
   "id": "abd3d304-0b67-4a12-8dd1-5cce449e4e71",
   "metadata": {
    "id": "abd3d304-0b67-4a12-8dd1-5cce449e4e71"
   },
   "outputs": [],
   "source": [
    "# calculate the scores\n",
    "cnf2_matrix = metrics.confusion_matrix(y2_test,predictions2)\n",
    "\n",
    "FP = cnf2_matrix.sum(axis=0) - np.diag(cnf2_matrix)\n",
    "FN = cnf2_matrix.sum(axis=1) - np.diag(cnf2_matrix)\n",
    "TP = np.diag(cnf2_matrix)\n",
    "TN = cnf2_matrix.sum() - (FP + FN + TP)\n",
    "\n",
    "FP = FP.astype(float)\n",
    "FN = FN.astype(float)\n",
    "TP = TP.astype(float)\n",
    "TN = TN.astype(float)\n",
    "\n",
    "# Sensitivity, hit rate, recall, or true positive rate\n",
    "TPR = TP/(TP+FN)\n",
    "# Specificity or true negative rate\n",
    "TNR = TN/(TN+FP)\n",
    "# Precision or positive predictive value\n",
    "PPV = TP/(TP+FP)\n",
    "# Negative predictive value\n",
    "NPV = TN/(TN+FN)\n",
    "# Fall out or false positive rate\n",
    "FPR = FP/(FP+TN)\n",
    "# False negative rate\n",
    "FNR = FN/(TP+FN)\n",
    "# False discovery rate\n",
    "FDR = FP/(TP+FP)\n",
    "# Overall accuracy\n",
    "ACC = (TP+TN)/(TP+FP+FN+TN)\n"
   ]
  },
  {
   "cell_type": "code",
   "execution_count": 342,
   "id": "dd27643e-a68a-4d26-ba7b-abec1697db9d",
   "metadata": {
    "id": "dd27643e-a68a-4d26-ba7b-abec1697db9d"
   },
   "outputs": [
    {
     "name": "stdout",
     "output_type": "stream",
     "text": [
      "Balanced accuracy: \n"
     ]
    },
    {
     "data": {
      "text/html": [
       "<div>\n",
       "<style scoped>\n",
       "    .dataframe tbody tr th:only-of-type {\n",
       "        vertical-align: middle;\n",
       "    }\n",
       "\n",
       "    .dataframe tbody tr th {\n",
       "        vertical-align: top;\n",
       "    }\n",
       "\n",
       "    .dataframe thead th {\n",
       "        text-align: right;\n",
       "    }\n",
       "</style>\n",
       "<table border=\"1\" class=\"dataframe\">\n",
       "  <thead>\n",
       "    <tr style=\"text-align: right;\">\n",
       "      <th></th>\n",
       "      <th>class</th>\n",
       "      <th>balanced accuracy</th>\n",
       "    </tr>\n",
       "  </thead>\n",
       "  <tbody>\n",
       "    <tr>\n",
       "      <th>0</th>\n",
       "      <td>NonP</td>\n",
       "      <td>0.74061</td>\n",
       "    </tr>\n",
       "    <tr>\n",
       "      <th>1</th>\n",
       "      <td>Politik</td>\n",
       "      <td>0.74061</td>\n",
       "    </tr>\n",
       "  </tbody>\n",
       "</table>\n",
       "</div>"
      ],
      "text/plain": [
       "     class  balanced accuracy\n",
       "0     NonP            0.74061\n",
       "1  Politik            0.74061"
      ]
     },
     "execution_count": 342,
     "metadata": {},
     "output_type": "execute_result"
    }
   ],
   "source": [
    "# calculate the balanced accuracy score\n",
    "Balanced_Acc2 = 0.5*(TPR + TNR)\n",
    "\n",
    "print(\"Balanced accuracy: \")\n",
    "df2_BA = pd.DataFrame({'class': classNamesNP, 'balanced accuracy' : Balanced_Acc2}, columns=['class', 'balanced accuracy'])\n",
    "df2_BA"
   ]
  },
  {
   "cell_type": "code",
   "execution_count": 343,
   "id": "34a2dc68-2fec-4592-a07e-ab3521a30403",
   "metadata": {
    "id": "34a2dc68-2fec-4592-a07e-ab3521a30403"
   },
   "outputs": [
    {
     "name": "stdout",
     "output_type": "stream",
     "text": [
      "Average accuracy:  0.7599431818181818\n",
      "Average balanced accuracy:  0.7406102331969028\n"
     ]
    }
   ],
   "source": [
    "# average balanced accuracy\n",
    "avg_ACC2 = np.mean(ACC)\n",
    "BA2 = df2_BA['balanced accuracy'].mean()\n",
    "\n",
    "print('Average accuracy: ', avg_ACC2)\n",
    "print('Average balanced accuracy: ', BA2)"
   ]
  },
  {
   "cell_type": "markdown",
   "id": "1f5acb8d-71db-46df-b82f-8b0d91a9d005",
   "metadata": {
    "id": "1f5acb8d-71db-46df-b82f-8b0d91a9d005"
   },
   "source": [
    "### Training only non political issues to obtain specific model"
   ]
  },
  {
   "cell_type": "code",
   "execution_count": 344,
   "id": "wL6J5rowB2Ts",
   "metadata": {
    "id": "wL6J5rowB2Ts"
   },
   "outputs": [
    {
     "name": "stdout",
     "output_type": "stream",
     "text": [
      "Requirement already satisfied: accelerate in c:\\users\\andre\\anaconda3\\lib\\site-packages (0.31.0)\n",
      "Requirement already satisfied: numpy>=1.17 in c:\\users\\andre\\anaconda3\\lib\\site-packages (from accelerate) (1.23.4)\n",
      "Requirement already satisfied: packaging>=20.0 in c:\\users\\andre\\anaconda3\\lib\\site-packages (from accelerate) (23.1)\n",
      "Requirement already satisfied: psutil in c:\\users\\andre\\anaconda3\\lib\\site-packages (from accelerate) (5.9.0)\n",
      "Requirement already satisfied: pyyaml in c:\\users\\andre\\anaconda3\\lib\\site-packages (from accelerate) (6.0.1)\n",
      "Requirement already satisfied: torch>=1.10.0 in c:\\users\\andre\\anaconda3\\lib\\site-packages (from accelerate) (2.3.1+cu118)\n",
      "Requirement already satisfied: huggingface-hub in c:\\users\\andre\\anaconda3\\lib\\site-packages (from accelerate) (0.23.3)\n",
      "Requirement already satisfied: safetensors>=0.3.1 in c:\\users\\andre\\anaconda3\\lib\\site-packages (from accelerate) (0.4.3)\n",
      "Requirement already satisfied: filelock in c:\\users\\andre\\anaconda3\\lib\\site-packages (from torch>=1.10.0->accelerate) (3.13.1)\n",
      "Requirement already satisfied: typing-extensions>=4.8.0 in c:\\users\\andre\\anaconda3\\lib\\site-packages (from torch>=1.10.0->accelerate) (4.9.0)\n",
      "Requirement already satisfied: sympy in c:\\users\\andre\\anaconda3\\lib\\site-packages (from torch>=1.10.0->accelerate) (1.12)\n",
      "Requirement already satisfied: networkx in c:\\users\\andre\\anaconda3\\lib\\site-packages (from torch>=1.10.0->accelerate) (3.1)\n",
      "Requirement already satisfied: jinja2 in c:\\users\\andre\\anaconda3\\lib\\site-packages (from torch>=1.10.0->accelerate) (3.1.3)\n",
      "Requirement already satisfied: fsspec in c:\\users\\andre\\anaconda3\\lib\\site-packages (from torch>=1.10.0->accelerate) (2023.10.0)\n",
      "Requirement already satisfied: mkl<=2021.4.0,>=2021.1.1 in c:\\users\\andre\\anaconda3\\lib\\site-packages (from torch>=1.10.0->accelerate) (2021.4.0)\n",
      "Requirement already satisfied: requests in c:\\users\\andre\\anaconda3\\lib\\site-packages (from huggingface-hub->accelerate) (2.31.0)\n",
      "Requirement already satisfied: tqdm>=4.42.1 in c:\\users\\andre\\anaconda3\\lib\\site-packages (from huggingface-hub->accelerate) (4.65.0)\n",
      "Requirement already satisfied: intel-openmp==2021.* in c:\\users\\andre\\anaconda3\\lib\\site-packages (from mkl<=2021.4.0,>=2021.1.1->torch>=1.10.0->accelerate) (2021.4.0)\n",
      "Requirement already satisfied: tbb==2021.* in c:\\users\\andre\\anaconda3\\lib\\site-packages (from mkl<=2021.4.0,>=2021.1.1->torch>=1.10.0->accelerate) (2021.12.0)\n",
      "Requirement already satisfied: colorama in c:\\users\\andre\\anaconda3\\lib\\site-packages (from tqdm>=4.42.1->huggingface-hub->accelerate) (0.4.6)\n",
      "Requirement already satisfied: MarkupSafe>=2.0 in c:\\users\\andre\\anaconda3\\lib\\site-packages (from jinja2->torch>=1.10.0->accelerate) (2.1.3)\n",
      "Requirement already satisfied: charset-normalizer<4,>=2 in c:\\users\\andre\\anaconda3\\lib\\site-packages (from requests->huggingface-hub->accelerate) (2.0.4)\n",
      "Requirement already satisfied: idna<4,>=2.5 in c:\\users\\andre\\anaconda3\\lib\\site-packages (from requests->huggingface-hub->accelerate) (3.4)\n",
      "Requirement already satisfied: urllib3<3,>=1.21.1 in c:\\users\\andre\\anaconda3\\lib\\site-packages (from requests->huggingface-hub->accelerate) (2.0.7)\n",
      "Requirement already satisfied: certifi>=2017.4.17 in c:\\users\\andre\\anaconda3\\lib\\site-packages (from requests->huggingface-hub->accelerate) (2024.2.2)\n",
      "Requirement already satisfied: mpmath>=0.19 in c:\\users\\andre\\anaconda3\\lib\\site-packages (from sympy->torch>=1.10.0->accelerate) (1.3.0)\n"
     ]
    }
   ],
   "source": [
    "!pip install accelerate -U"
   ]
  },
  {
   "cell_type": "code",
   "execution_count": 345,
   "id": "ce16c951-7b9b-4113-b4a0-1ab135bcff94",
   "metadata": {
    "id": "ce16c951-7b9b-4113-b4a0-1ab135bcff94"
   },
   "outputs": [
    {
     "name": "stdout",
     "output_type": "stream",
     "text": [
      "Training Data : (1117,)\n",
      "Testing Data :  (280,)\n"
     ]
    },
    {
     "data": {
      "text/plain": [
       "0       kunjung prabowo resmi serah proyek bantu air b...\n",
       "2       dukung bodoh dukung ridwan kamil skema balik m...\n",
       "6       prabowo kemenhan tim satgas air unhan kaji ban...\n",
       "10      isu basi kait fakta anies ganti pancasila sist...\n",
       "11      ganjar pranowomahfud md tekan siap butuh dasar...\n",
       "                              ...                        \n",
       "4252    anies bilang debat selesai tinggal kalimat lon...\n",
       "4254    program pasang capres cawapres ganjar pranowo ...\n",
       "4261    dapat masuk akal irrational tbh but neverthele...\n",
       "4262    lihat ganjar kecimpung lgislatif eksekutif bhk...\n",
       "4263    acara masak calon presiden nomor urut habis in...\n",
       "Name: c_text2, Length: 1397, dtype: object"
      ]
     },
     "execution_count": 345,
     "metadata": {},
     "output_type": "execute_result"
    }
   ],
   "source": [
    "# Create Feature and Label sets using 7 classes\n",
    "# create a subset of the initial dataset\n",
    "data_cleaned_7Class = data_cleaned_2Class\n",
    "\n",
    "data_cleaned_7Class = data_cleaned_7Class[data_cleaned_7Class['label'] != 'Politik']\n",
    "data_cleaned_7Class.head(10)\n",
    "\n",
    "X7 = data_cleaned_7Class['c_text2']\n",
    "y7 = data_cleaned_7Class['label']\n",
    "\n",
    "from sklearn.model_selection import train_test_split\n",
    "\n",
    "X7_train, X7_test, y7_train, y7_test = train_test_split(X7, y7, test_size=0.2, random_state=123)\n",
    "\n",
    "print('Training Data :', X7_train.shape)\n",
    "print('Testing Data : ', X7_test.shape)\n",
    "\n",
    "X7_train = list(X7_train)\n",
    "X7_test = list(X7_test)\n",
    "y7_train= list(y7_train)\n",
    "y7_test= list(y7_test)\n",
    "\n",
    "X7"
   ]
  },
  {
   "cell_type": "code",
   "execution_count": 41,
   "id": "3793ab55-0852-49bf-b417-46fc7f7405a8",
   "metadata": {
    "id": "3793ab55-0852-49bf-b417-46fc7f7405a8"
   },
   "outputs": [],
   "source": [
    "# Create Feature and Label sets using 7 classes"
   ]
  },
  {
   "cell_type": "code",
   "execution_count": 346,
   "id": "4GOAxCcnBgBj",
   "metadata": {
    "id": "4GOAxCcnBgBj"
   },
   "outputs": [],
   "source": [
    "from transformers import DistilBertTokenizer\n",
    "import torch\n",
    "\n",
    "\n",
    "model_name = \"cahya/distilbert-base-indonesian\"\n",
    "device = torch.device(\"cuda\" if torch.cuda.is_available() else \"cpu\")\n",
    "tokenizer = DistilBertTokenizer.from_pretrained(model_name)"
   ]
  },
  {
   "cell_type": "code",
   "execution_count": 347,
   "id": "0NblwV3FCYXg",
   "metadata": {
    "id": "0NblwV3FCYXg"
   },
   "outputs": [
    {
     "name": "stderr",
     "output_type": "stream",
     "text": [
      "100%|█████████████████████████████████████████████████████████████████████████████| 1117/1117 [00:01<00:00, 657.96it/s]\n",
      "100%|███████████████████████████████████████████████████████████████████████████████| 280/280 [00:00<00:00, 570.36it/s]\n"
     ]
    }
   ],
   "source": [
    "# Tokenization Function\n",
    "from tqdm import tqdm\n",
    "\n",
    "def tokenize(sentences, tokenizer, max_length):\n",
    "    input_ids, attention_masks = [], []\n",
    "    for sentence in tqdm(sentences):\n",
    "        inputs = tokenizer.encode_plus(\n",
    "            sentence,\n",
    "            add_special_tokens=True,\n",
    "            max_length=max_length,\n",
    "            pad_to_max_length=True,\n",
    "            return_attention_mask=True,\n",
    "            truncation=True\n",
    "        )\n",
    "        input_ids.append(inputs['input_ids'])\n",
    "        attention_masks.append(inputs['attention_mask'])\n",
    "    return np.array(input_ids), np.array(attention_masks)\n",
    "\n",
    "MAX_LENGTH = 128\n",
    "\n",
    "X_train_ids, X_train_masks = tokenize(X7_train, tokenizer, MAX_LENGTH)\n",
    "X_val_ids, X_val_masks = tokenize(X7_test, tokenizer, MAX_LENGTH)"
   ]
  },
  {
   "cell_type": "code",
   "execution_count": 348,
   "id": "-D115W5a1JCl",
   "metadata": {
    "id": "-D115W5a1JCl"
   },
   "outputs": [
    {
     "data": {
      "text/plain": [
       "dtype('int32')"
      ]
     },
     "execution_count": 348,
     "metadata": {},
     "output_type": "execute_result"
    }
   ],
   "source": [
    "X_val_ids.dtype"
   ]
  },
  {
   "cell_type": "code",
   "execution_count": 349,
   "id": "xJwlP1a0DLZb",
   "metadata": {
    "id": "xJwlP1a0DLZb"
   },
   "outputs": [
    {
     "name": "stdout",
     "output_type": "stream",
     "text": [
      "Label to index mapping: {'Demografi': 0, 'Ekonomi': 1, 'Geografi': 2, 'Ideologi': 3, 'Pertahanan dan Keamanan': 4, 'Sosial Budaya': 5, 'Sumber Daya Alam': 6}\n"
     ]
    }
   ],
   "source": [
    "from sklearn.preprocessing import LabelEncoder\n",
    "\n",
    "label_encoder = LabelEncoder()\n",
    "y7_train_encoded= label_encoder.fit_transform(y7_train)\n",
    "y7_test_encoded= label_encoder.fit_transform(y7_test)\n",
    "\n",
    "#The label index\n",
    "label_dict = dict(zip(label_encoder.classes_, range(len(label_encoder.classes_))))\n",
    "print(\"Label to index mapping:\", label_dict)"
   ]
  },
  {
   "cell_type": "code",
   "execution_count": 350,
   "id": "9QtsGnPNX5x4",
   "metadata": {
    "id": "9QtsGnPNX5x4"
   },
   "outputs": [
    {
     "name": "stdout",
     "output_type": "stream",
     "text": [
      "{0: 49, 1: 216, 2: 15, 3: 204, 4: 207, 5: 309, 6: 117}\n"
     ]
    }
   ],
   "source": [
    "unique, counts = np.unique(y7_train_encoded, return_counts=True)\n",
    "value_counts = dict(zip(unique, counts))\n",
    "\n",
    "print(value_counts)"
   ]
  },
  {
   "cell_type": "code",
   "execution_count": 47,
   "id": "c7d40acf-4aeb-4820-86f2-869f77864455",
   "metadata": {
    "id": "c7d40acf-4aeb-4820-86f2-869f77864455"
   },
   "outputs": [],
   "source": [
    "# from collections import Counter\n",
    "# from imblearn.over_sampling import BorderlineSMOTE\n",
    "\n",
    "# import numpy as np\n",
    "\n",
    "# X_train_combined = np.hstack((X_train_ids, X_train_masks))\n",
    "\n",
    "# # Convert pandas Series to numpy array\n",
    "# y_train_np = y7_train_encoded\n",
    "# # Reshape y_train to match the shape of X_train_combined\n",
    "# y_train_reshaped = y_train_np.reshape(-1, 1)\n",
    "\n",
    "# bsmote = BorderlineSMOTE(random_state=42)\n",
    "# X_train_resampled, y_train_resampled = bsmote.fit_resample(X_train_combined, y_train_reshaped)\n",
    "\n",
    "# # After resampling, reshape y_train_resampled back to 1D array\n",
    "# y_train_resampled = y_train_resampled.ravel()\n",
    "# print(Counter(y_train_resampled))\n",
    "# # Separate back into input_ids and attention_masks\n",
    "# X_train_ids_resampled = X_train_resampled[:, :MAX_LENGTH]\n",
    "# X_train_masks_resampled = X_train_resampled[:, MAX_LENGTH:]"
   ]
  },
  {
   "cell_type": "code",
   "execution_count": 351,
   "id": "b67ef725-f5d6-466d-ada0-6c588fdb69ef",
   "metadata": {
    "id": "b67ef725-f5d6-466d-ada0-6c588fdb69ef"
   },
   "outputs": [
    {
     "name": "stderr",
     "output_type": "stream",
     "text": [
      "Some weights of the PyTorch model were not used when initializing the TF 2.0 model TFDistilBertModel: ['vocab_projector.weight', 'vocab_layer_norm.bias', 'vocab_projector.bias', 'vocab_transform.weight', 'vocab_transform.bias', 'vocab_layer_norm.weight']\n",
      "- This IS expected if you are initializing TFDistilBertModel from a PyTorch model trained on another task or with another architecture (e.g. initializing a TFBertForSequenceClassification model from a BertForPreTraining model).\n",
      "- This IS NOT expected if you are initializing TFDistilBertModel from a PyTorch model that you expect to be exactly identical (e.g. initializing a TFBertForSequenceClassification model from a BertForSequenceClassification model).\n",
      "All the weights of TFDistilBertModel were initialized from the PyTorch model.\n",
      "If your task is similar to the task the model of the checkpoint was trained on, you can already use TFDistilBertModel for predictions without further training.\n"
     ]
    },
    {
     "name": "stdout",
     "output_type": "stream",
     "text": [
      "WARNING:tensorflow:\n",
      "The following Variables were used a Lambda layer's call (lambda), but\n",
      "are not present in its tracked objects:\n",
      "  <tf.Variable 'tf_distil_bert_model/distilbert/embeddings/word_embeddings/weight:0' shape=(32000, 768) dtype=float32>\n",
      "  <tf.Variable 'tf_distil_bert_model/distilbert/embeddings/position_embeddings/embeddings:0' shape=(512, 768) dtype=float32>\n",
      "  <tf.Variable 'tf_distil_bert_model/distilbert/embeddings/LayerNorm/gamma:0' shape=(768,) dtype=float32>\n",
      "  <tf.Variable 'tf_distil_bert_model/distilbert/embeddings/LayerNorm/beta:0' shape=(768,) dtype=float32>\n",
      "  <tf.Variable 'tf_distil_bert_model/distilbert/transformer/layer_._0/attention/q_lin/kernel:0' shape=(768, 768) dtype=float32>\n",
      "  <tf.Variable 'tf_distil_bert_model/distilbert/transformer/layer_._0/attention/q_lin/bias:0' shape=(768,) dtype=float32>\n",
      "  <tf.Variable 'tf_distil_bert_model/distilbert/transformer/layer_._0/attention/k_lin/kernel:0' shape=(768, 768) dtype=float32>\n",
      "  <tf.Variable 'tf_distil_bert_model/distilbert/transformer/layer_._0/attention/k_lin/bias:0' shape=(768,) dtype=float32>\n",
      "  <tf.Variable 'tf_distil_bert_model/distilbert/transformer/layer_._0/attention/v_lin/kernel:0' shape=(768, 768) dtype=float32>\n",
      "  <tf.Variable 'tf_distil_bert_model/distilbert/transformer/layer_._0/attention/v_lin/bias:0' shape=(768,) dtype=float32>\n",
      "  <tf.Variable 'tf_distil_bert_model/distilbert/transformer/layer_._0/attention/out_lin/kernel:0' shape=(768, 768) dtype=float32>\n",
      "  <tf.Variable 'tf_distil_bert_model/distilbert/transformer/layer_._0/attention/out_lin/bias:0' shape=(768,) dtype=float32>\n",
      "  <tf.Variable 'tf_distil_bert_model/distilbert/transformer/layer_._0/sa_layer_norm/gamma:0' shape=(768,) dtype=float32>\n",
      "  <tf.Variable 'tf_distil_bert_model/distilbert/transformer/layer_._0/sa_layer_norm/beta:0' shape=(768,) dtype=float32>\n",
      "  <tf.Variable 'tf_distil_bert_model/distilbert/transformer/layer_._0/ffn/lin1/kernel:0' shape=(768, 3072) dtype=float32>\n",
      "  <tf.Variable 'tf_distil_bert_model/distilbert/transformer/layer_._0/ffn/lin1/bias:0' shape=(3072,) dtype=float32>\n",
      "  <tf.Variable 'tf_distil_bert_model/distilbert/transformer/layer_._0/ffn/lin2/kernel:0' shape=(3072, 768) dtype=float32>\n",
      "  <tf.Variable 'tf_distil_bert_model/distilbert/transformer/layer_._0/ffn/lin2/bias:0' shape=(768,) dtype=float32>\n",
      "  <tf.Variable 'tf_distil_bert_model/distilbert/transformer/layer_._0/output_layer_norm/gamma:0' shape=(768,) dtype=float32>\n",
      "  <tf.Variable 'tf_distil_bert_model/distilbert/transformer/layer_._0/output_layer_norm/beta:0' shape=(768,) dtype=float32>\n",
      "  <tf.Variable 'tf_distil_bert_model/distilbert/transformer/layer_._1/attention/q_lin/kernel:0' shape=(768, 768) dtype=float32>\n",
      "  <tf.Variable 'tf_distil_bert_model/distilbert/transformer/layer_._1/attention/q_lin/bias:0' shape=(768,) dtype=float32>\n",
      "  <tf.Variable 'tf_distil_bert_model/distilbert/transformer/layer_._1/attention/k_lin/kernel:0' shape=(768, 768) dtype=float32>\n",
      "  <tf.Variable 'tf_distil_bert_model/distilbert/transformer/layer_._1/attention/k_lin/bias:0' shape=(768,) dtype=float32>\n",
      "  <tf.Variable 'tf_distil_bert_model/distilbert/transformer/layer_._1/attention/v_lin/kernel:0' shape=(768, 768) dtype=float32>\n",
      "  <tf.Variable 'tf_distil_bert_model/distilbert/transformer/layer_._1/attention/v_lin/bias:0' shape=(768,) dtype=float32>\n",
      "  <tf.Variable 'tf_distil_bert_model/distilbert/transformer/layer_._1/attention/out_lin/kernel:0' shape=(768, 768) dtype=float32>\n",
      "  <tf.Variable 'tf_distil_bert_model/distilbert/transformer/layer_._1/attention/out_lin/bias:0' shape=(768,) dtype=float32>\n",
      "  <tf.Variable 'tf_distil_bert_model/distilbert/transformer/layer_._1/sa_layer_norm/gamma:0' shape=(768,) dtype=float32>\n",
      "  <tf.Variable 'tf_distil_bert_model/distilbert/transformer/layer_._1/sa_layer_norm/beta:0' shape=(768,) dtype=float32>\n",
      "  <tf.Variable 'tf_distil_bert_model/distilbert/transformer/layer_._1/ffn/lin1/kernel:0' shape=(768, 3072) dtype=float32>\n",
      "  <tf.Variable 'tf_distil_bert_model/distilbert/transformer/layer_._1/ffn/lin1/bias:0' shape=(3072,) dtype=float32>\n",
      "  <tf.Variable 'tf_distil_bert_model/distilbert/transformer/layer_._1/ffn/lin2/kernel:0' shape=(3072, 768) dtype=float32>\n",
      "  <tf.Variable 'tf_distil_bert_model/distilbert/transformer/layer_._1/ffn/lin2/bias:0' shape=(768,) dtype=float32>\n",
      "  <tf.Variable 'tf_distil_bert_model/distilbert/transformer/layer_._1/output_layer_norm/gamma:0' shape=(768,) dtype=float32>\n",
      "  <tf.Variable 'tf_distil_bert_model/distilbert/transformer/layer_._1/output_layer_norm/beta:0' shape=(768,) dtype=float32>\n",
      "  <tf.Variable 'tf_distil_bert_model/distilbert/transformer/layer_._2/attention/q_lin/kernel:0' shape=(768, 768) dtype=float32>\n",
      "  <tf.Variable 'tf_distil_bert_model/distilbert/transformer/layer_._2/attention/q_lin/bias:0' shape=(768,) dtype=float32>\n",
      "  <tf.Variable 'tf_distil_bert_model/distilbert/transformer/layer_._2/attention/k_lin/kernel:0' shape=(768, 768) dtype=float32>\n",
      "  <tf.Variable 'tf_distil_bert_model/distilbert/transformer/layer_._2/attention/k_lin/bias:0' shape=(768,) dtype=float32>\n",
      "  <tf.Variable 'tf_distil_bert_model/distilbert/transformer/layer_._2/attention/v_lin/kernel:0' shape=(768, 768) dtype=float32>\n",
      "  <tf.Variable 'tf_distil_bert_model/distilbert/transformer/layer_._2/attention/v_lin/bias:0' shape=(768,) dtype=float32>\n",
      "  <tf.Variable 'tf_distil_bert_model/distilbert/transformer/layer_._2/attention/out_lin/kernel:0' shape=(768, 768) dtype=float32>\n",
      "  <tf.Variable 'tf_distil_bert_model/distilbert/transformer/layer_._2/attention/out_lin/bias:0' shape=(768,) dtype=float32>\n",
      "  <tf.Variable 'tf_distil_bert_model/distilbert/transformer/layer_._2/sa_layer_norm/gamma:0' shape=(768,) dtype=float32>\n",
      "  <tf.Variable 'tf_distil_bert_model/distilbert/transformer/layer_._2/sa_layer_norm/beta:0' shape=(768,) dtype=float32>\n",
      "  <tf.Variable 'tf_distil_bert_model/distilbert/transformer/layer_._2/ffn/lin1/kernel:0' shape=(768, 3072) dtype=float32>\n",
      "  <tf.Variable 'tf_distil_bert_model/distilbert/transformer/layer_._2/ffn/lin1/bias:0' shape=(3072,) dtype=float32>\n",
      "  <tf.Variable 'tf_distil_bert_model/distilbert/transformer/layer_._2/ffn/lin2/kernel:0' shape=(3072, 768) dtype=float32>\n",
      "  <tf.Variable 'tf_distil_bert_model/distilbert/transformer/layer_._2/ffn/lin2/bias:0' shape=(768,) dtype=float32>\n",
      "  <tf.Variable 'tf_distil_bert_model/distilbert/transformer/layer_._2/output_layer_norm/gamma:0' shape=(768,) dtype=float32>\n",
      "  <tf.Variable 'tf_distil_bert_model/distilbert/transformer/layer_._2/output_layer_norm/beta:0' shape=(768,) dtype=float32>\n",
      "  <tf.Variable 'tf_distil_bert_model/distilbert/transformer/layer_._3/attention/q_lin/kernel:0' shape=(768, 768) dtype=float32>\n",
      "  <tf.Variable 'tf_distil_bert_model/distilbert/transformer/layer_._3/attention/q_lin/bias:0' shape=(768,) dtype=float32>\n",
      "  <tf.Variable 'tf_distil_bert_model/distilbert/transformer/layer_._3/attention/k_lin/kernel:0' shape=(768, 768) dtype=float32>\n",
      "  <tf.Variable 'tf_distil_bert_model/distilbert/transformer/layer_._3/attention/k_lin/bias:0' shape=(768,) dtype=float32>\n",
      "  <tf.Variable 'tf_distil_bert_model/distilbert/transformer/layer_._3/attention/v_lin/kernel:0' shape=(768, 768) dtype=float32>\n",
      "  <tf.Variable 'tf_distil_bert_model/distilbert/transformer/layer_._3/attention/v_lin/bias:0' shape=(768,) dtype=float32>\n",
      "  <tf.Variable 'tf_distil_bert_model/distilbert/transformer/layer_._3/attention/out_lin/kernel:0' shape=(768, 768) dtype=float32>\n",
      "  <tf.Variable 'tf_distil_bert_model/distilbert/transformer/layer_._3/attention/out_lin/bias:0' shape=(768,) dtype=float32>\n",
      "  <tf.Variable 'tf_distil_bert_model/distilbert/transformer/layer_._3/sa_layer_norm/gamma:0' shape=(768,) dtype=float32>\n",
      "  <tf.Variable 'tf_distil_bert_model/distilbert/transformer/layer_._3/sa_layer_norm/beta:0' shape=(768,) dtype=float32>\n",
      "  <tf.Variable 'tf_distil_bert_model/distilbert/transformer/layer_._3/ffn/lin1/kernel:0' shape=(768, 3072) dtype=float32>\n",
      "  <tf.Variable 'tf_distil_bert_model/distilbert/transformer/layer_._3/ffn/lin1/bias:0' shape=(3072,) dtype=float32>\n",
      "  <tf.Variable 'tf_distil_bert_model/distilbert/transformer/layer_._3/ffn/lin2/kernel:0' shape=(3072, 768) dtype=float32>\n",
      "  <tf.Variable 'tf_distil_bert_model/distilbert/transformer/layer_._3/ffn/lin2/bias:0' shape=(768,) dtype=float32>\n",
      "  <tf.Variable 'tf_distil_bert_model/distilbert/transformer/layer_._3/output_layer_norm/gamma:0' shape=(768,) dtype=float32>\n",
      "  <tf.Variable 'tf_distil_bert_model/distilbert/transformer/layer_._3/output_layer_norm/beta:0' shape=(768,) dtype=float32>\n",
      "  <tf.Variable 'tf_distil_bert_model/distilbert/transformer/layer_._4/attention/q_lin/kernel:0' shape=(768, 768) dtype=float32>\n",
      "  <tf.Variable 'tf_distil_bert_model/distilbert/transformer/layer_._4/attention/q_lin/bias:0' shape=(768,) dtype=float32>\n",
      "  <tf.Variable 'tf_distil_bert_model/distilbert/transformer/layer_._4/attention/k_lin/kernel:0' shape=(768, 768) dtype=float32>\n",
      "  <tf.Variable 'tf_distil_bert_model/distilbert/transformer/layer_._4/attention/k_lin/bias:0' shape=(768,) dtype=float32>\n",
      "  <tf.Variable 'tf_distil_bert_model/distilbert/transformer/layer_._4/attention/v_lin/kernel:0' shape=(768, 768) dtype=float32>\n",
      "  <tf.Variable 'tf_distil_bert_model/distilbert/transformer/layer_._4/attention/v_lin/bias:0' shape=(768,) dtype=float32>\n",
      "  <tf.Variable 'tf_distil_bert_model/distilbert/transformer/layer_._4/attention/out_lin/kernel:0' shape=(768, 768) dtype=float32>\n",
      "  <tf.Variable 'tf_distil_bert_model/distilbert/transformer/layer_._4/attention/out_lin/bias:0' shape=(768,) dtype=float32>\n",
      "  <tf.Variable 'tf_distil_bert_model/distilbert/transformer/layer_._4/sa_layer_norm/gamma:0' shape=(768,) dtype=float32>\n",
      "  <tf.Variable 'tf_distil_bert_model/distilbert/transformer/layer_._4/sa_layer_norm/beta:0' shape=(768,) dtype=float32>\n",
      "  <tf.Variable 'tf_distil_bert_model/distilbert/transformer/layer_._4/ffn/lin1/kernel:0' shape=(768, 3072) dtype=float32>\n",
      "  <tf.Variable 'tf_distil_bert_model/distilbert/transformer/layer_._4/ffn/lin1/bias:0' shape=(3072,) dtype=float32>\n",
      "  <tf.Variable 'tf_distil_bert_model/distilbert/transformer/layer_._4/ffn/lin2/kernel:0' shape=(3072, 768) dtype=float32>\n",
      "  <tf.Variable 'tf_distil_bert_model/distilbert/transformer/layer_._4/ffn/lin2/bias:0' shape=(768,) dtype=float32>\n",
      "  <tf.Variable 'tf_distil_bert_model/distilbert/transformer/layer_._4/output_layer_norm/gamma:0' shape=(768,) dtype=float32>\n",
      "  <tf.Variable 'tf_distil_bert_model/distilbert/transformer/layer_._4/output_layer_norm/beta:0' shape=(768,) dtype=float32>\n",
      "  <tf.Variable 'tf_distil_bert_model/distilbert/transformer/layer_._5/attention/q_lin/kernel:0' shape=(768, 768) dtype=float32>\n",
      "  <tf.Variable 'tf_distil_bert_model/distilbert/transformer/layer_._5/attention/q_lin/bias:0' shape=(768,) dtype=float32>\n",
      "  <tf.Variable 'tf_distil_bert_model/distilbert/transformer/layer_._5/attention/k_lin/kernel:0' shape=(768, 768) dtype=float32>\n",
      "  <tf.Variable 'tf_distil_bert_model/distilbert/transformer/layer_._5/attention/k_lin/bias:0' shape=(768,) dtype=float32>\n",
      "  <tf.Variable 'tf_distil_bert_model/distilbert/transformer/layer_._5/attention/v_lin/kernel:0' shape=(768, 768) dtype=float32>\n",
      "  <tf.Variable 'tf_distil_bert_model/distilbert/transformer/layer_._5/attention/v_lin/bias:0' shape=(768,) dtype=float32>\n",
      "  <tf.Variable 'tf_distil_bert_model/distilbert/transformer/layer_._5/attention/out_lin/kernel:0' shape=(768, 768) dtype=float32>\n",
      "  <tf.Variable 'tf_distil_bert_model/distilbert/transformer/layer_._5/attention/out_lin/bias:0' shape=(768,) dtype=float32>\n",
      "  <tf.Variable 'tf_distil_bert_model/distilbert/transformer/layer_._5/sa_layer_norm/gamma:0' shape=(768,) dtype=float32>\n",
      "  <tf.Variable 'tf_distil_bert_model/distilbert/transformer/layer_._5/sa_layer_norm/beta:0' shape=(768,) dtype=float32>\n",
      "  <tf.Variable 'tf_distil_bert_model/distilbert/transformer/layer_._5/ffn/lin1/kernel:0' shape=(768, 3072) dtype=float32>\n",
      "  <tf.Variable 'tf_distil_bert_model/distilbert/transformer/layer_._5/ffn/lin1/bias:0' shape=(3072,) dtype=float32>\n",
      "  <tf.Variable 'tf_distil_bert_model/distilbert/transformer/layer_._5/ffn/lin2/kernel:0' shape=(3072, 768) dtype=float32>\n",
      "  <tf.Variable 'tf_distil_bert_model/distilbert/transformer/layer_._5/ffn/lin2/bias:0' shape=(768,) dtype=float32>\n",
      "  <tf.Variable 'tf_distil_bert_model/distilbert/transformer/layer_._5/output_layer_norm/gamma:0' shape=(768,) dtype=float32>\n",
      "  <tf.Variable 'tf_distil_bert_model/distilbert/transformer/layer_._5/output_layer_norm/beta:0' shape=(768,) dtype=float32>\n",
      "It is possible that this is intended behavior, but it is more likely\n",
      "an omission. This is a strong indication that this layer should be\n",
      "formulated as a subclassed Layer rather than a Lambda layer.\n",
      "Model: \"model\"\n",
      "__________________________________________________________________________________________________\n",
      "Layer (type)                    Output Shape         Param #     Connected to                     \n",
      "==================================================================================================\n",
      "input_token (InputLayer)        [(None, 128)]        0                                            \n",
      "__________________________________________________________________________________________________\n",
      "masked_token (InputLayer)       [(None, 128)]        0                                            \n",
      "__________________________________________________________________________________________________\n",
      "lambda (Lambda)                 (None, 128, 768)     0           input_token[0][0]                \n",
      "                                                                 masked_token[0][0]               \n",
      "__________________________________________________________________________________________________\n",
      "bidirectional (Bidirectional)   (None, 128, 256)     918528      lambda[0][0]                     \n",
      "__________________________________________________________________________________________________\n",
      "bidirectional_1 (Bidirectional) (None, 128, 128)     164352      bidirectional[0][0]              \n",
      "__________________________________________________________________________________________________\n",
      "global_max_pooling1d (GlobalMax (None, 128)          0           bidirectional_1[0][0]            \n",
      "__________________________________________________________________________________________________\n",
      "dense (Dense)                   (None, 128)          16512       global_max_pooling1d[0][0]       \n",
      "__________________________________________________________________________________________________\n",
      "dropout_19 (Dropout)            (None, 128)          0           dense[0][0]                      \n",
      "__________________________________________________________________________________________________\n",
      "dense_1 (Dense)                 (None, 64)           8256        dropout_19[0][0]                 \n",
      "__________________________________________________________________________________________________\n",
      "dropout_20 (Dropout)            (None, 64)           0           dense_1[0][0]                    \n",
      "__________________________________________________________________________________________________\n",
      "dense_2 (Dense)                 (None, 7)            455         dropout_20[0][0]                 \n",
      "==================================================================================================\n",
      "Total params: 1,108,103\n",
      "Trainable params: 1,108,103\n",
      "Non-trainable params: 0\n",
      "__________________________________________________________________________________________________\n"
     ]
    }
   ],
   "source": [
    "from transformers import DistilBertTokenizer, DistilBertConfig, TFDistilBertModel\n",
    "import tensorflow as tf\n",
    "config = DistilBertConfig.from_pretrained(model_name, output_hidden_states=False, output_attentions=False)\n",
    "DistilBERT = TFDistilBertModel.from_pretrained(model_name, config=config, from_pt=True)\n",
    "\n",
    "# Input layer\n",
    "input_ids_in = tf.keras.layers.Input(shape=(MAX_LENGTH,), name='input_token', dtype='int32')\n",
    "input_masks_in = tf.keras.layers.Input(shape=(MAX_LENGTH,), name='masked_token', dtype='int32')\n",
    "\n",
    "# Fungsi wrapper untuk model DistilBERT\n",
    "def distilbert_model_wrapper(input_ids, attention_mask):\n",
    "    return DistilBERT(input_ids=input_ids, attention_mask=attention_mask).last_hidden_state\n",
    "\n",
    "# Model DistilBERT\n",
    "distilbert_output = tf.keras.layers.Lambda(lambda x: distilbert_model_wrapper(x[0], x[1]))([input_ids_in, input_masks_in])\n",
    "\n",
    "# Lapisan LSTM\n",
    "X = tf.keras.layers.Bidirectional(tf.keras.layers.LSTM(128, return_sequences=True))(distilbert_output)\n",
    "X = tf.keras.layers.Bidirectional(tf.keras.layers.LSTM(64, return_sequences=True))(X)  # Additional LSTM Layer\n",
    "X = tf.keras.layers.GlobalMaxPool1D()(X)\n",
    "X = tf.keras.layers.Dense(128, activation='relu')(X)  # Increased Dense Layer size\n",
    "X = tf.keras.layers.Dropout(0.5)(X)  # Adjusted Dropout rate\n",
    "X = tf.keras.layers.Dense(64, activation='relu')(X)\n",
    "X = tf.keras.layers.Dropout(0.5)(X)\n",
    "X = tf.keras.layers.Dense(len(label_dict), activation='softmax')(X)\n",
    "\n",
    "# Model kompilasi\n",
    "model = tf.keras.Model(inputs=[input_ids_in, input_masks_in], outputs=X)\n",
    "\n",
    "for layer in DistilBERT.layers[-4:]:\n",
    "    layer.trainable = True\n",
    "\n",
    "# Definisi metrik Balanced Accuracy\n",
    "class BalancedAccuracy(tf.keras.metrics.Metric):\n",
    "    def __init__(self, name='balanced_accuracy', **kwargs):\n",
    "        super(BalancedAccuracy, self).__init__(name=name, **kwargs)\n",
    "        self.true_positives = self.add_weight(name='tp', initializer='zeros')\n",
    "        self.true_negatives = self.add_weight(name='tn', initializer='zeros')\n",
    "        self.false_positives = self.add_weight(name='fp', initializer='zeros')\n",
    "        self.false_negatives = self.add_weight(name='fn', initializer='zeros')\n",
    "\n",
    "    def update_state(self, y_true, y_pred, sample_weight=None):\n",
    "        y_pred = tf.argmax(y_pred, axis=1)\n",
    "        y_true = tf.cast(y_true, tf.int64)\n",
    "\n",
    "        true_positives = tf.reduce_sum(tf.cast(y_true * y_pred, tf.float32))\n",
    "        true_negatives = tf.reduce_sum(tf.cast((1 - y_true) * (1 - y_pred), tf.float32))\n",
    "        false_positives = tf.reduce_sum(tf.cast((1 - y_true) * y_pred, tf.float32))\n",
    "        false_negatives = tf.reduce_sum(tf.cast(y_true * (1 - y_pred), tf.float32))\n",
    "\n",
    "        self.true_positives.assign_add(true_positives)\n",
    "        self.true_negatives.assign_add(true_negatives)\n",
    "        self.false_positives.assign_add(false_positives)\n",
    "        self.false_negatives.assign_add(false_negatives)\n",
    "\n",
    "    def result(self):\n",
    "        recall_pos = self.true_positives / (self.true_positives + self.false_negatives)\n",
    "        recall_neg = self.true_negatives / (self.true_negatives + self.false_positives)\n",
    "        return (recall_pos + recall_neg) / 2\n",
    "\n",
    "    def reset_states(self):\n",
    "        self.true_positives.assign(0)\n",
    "        self.true_negatives.assign(0)\n",
    "        self.false_positives.assign(0)\n",
    "        self.false_negatives.assign(0)\n",
    "\n",
    "# Mengkompilasi model dengan metrik balanced accuracy\n",
    "model.compile(optimizer=tf.keras.optimizers.Adam(learning_rate=1e-4),  # Lower learning rate\n",
    "              loss='sparse_categorical_crossentropy',\n",
    "              metrics=['accuracy', BalancedAccuracy()])\n",
    "# Model summary (opsional)\n",
    "model.summary()"
   ]
  },
  {
   "cell_type": "code",
   "execution_count": 352,
   "id": "iFrFr5dfK0j7",
   "metadata": {
    "id": "iFrFr5dfK0j7"
   },
   "outputs": [],
   "source": [
    "from tensorflow.keras.callbacks import ModelCheckpoint, EarlyStopping, ReduceLROnPlateau\n",
    "import os\n",
    "\n",
    "output_dir = './model7_outputs'\n",
    "if not os.path.exists(output_dir):\n",
    "    os.makedirs(output_dir)\n",
    "\n",
    "model_checkpoint = ModelCheckpoint(filepath=output_dir+'/weights.{epoch:02d}.hdf5', save_weights_only=True)\n",
    "early_stopping = EarlyStopping(patience=3, monitor='val_loss', mode='min', verbose=1)\n",
    "reduce_lr = ReduceLROnPlateau(monitor='val_loss', min_lr=0.000001, patience=1, mode='min', factor=0.1, verbose=1)"
   ]
  },
  {
   "cell_type": "code",
   "execution_count": 353,
   "id": "92jG7Apy2fzD",
   "metadata": {
    "id": "92jG7Apy2fzD"
   },
   "outputs": [
    {
     "data": {
      "text/plain": [
       "{0: 3.2565597667638486,\n",
       " 1: 0.7387566137566137,\n",
       " 2: 10.638095238095238,\n",
       " 3: 0.7822128851540616,\n",
       " 4: 0.7708764665286404,\n",
       " 5: 0.5164123901987979,\n",
       " 6: 1.363858363858364}"
      ]
     },
     "execution_count": 353,
     "metadata": {},
     "output_type": "execute_result"
    }
   ],
   "source": [
    "X_train_ids = np.array(X_train_ids)\n",
    "X_train_masks = np.array(X_train_masks)\n",
    "\n",
    "from sklearn.utils.class_weight import compute_class_weight\n",
    "\n",
    "class_weights = compute_class_weight(class_weight='balanced', classes=np.unique(y7_train_encoded), y=y7_train_encoded)\n",
    "class_weights = {i: class_weights[i] for i in range(len(class_weights))}\n",
    "class_weights"
   ]
  },
  {
   "cell_type": "code",
   "execution_count": 354,
   "id": "BmBmJgJTXKpy",
   "metadata": {
    "id": "BmBmJgJTXKpy"
   },
   "outputs": [
    {
     "name": "stdout",
     "output_type": "stream",
     "text": [
      "Epoch 1/25\n",
      "70/70 [==============================] - 39s 183ms/step - loss: 1.9932 - accuracy: 0.1594 - balanced_accuracy: 0.5036 - val_loss: 1.9135 - val_accuracy: 0.2214 - val_balanced_accuracy: 0.5029\n",
      "Epoch 2/25\n",
      "70/70 [==============================] - 10s 142ms/step - loss: 1.9329 - accuracy: 0.2328 - balanced_accuracy: 0.4993 - val_loss: 1.9056 - val_accuracy: 0.2536 - val_balanced_accuracy: 0.5028\n",
      "Epoch 3/25\n",
      "70/70 [==============================] - 10s 141ms/step - loss: 1.8956 - accuracy: 0.2578 - balanced_accuracy: 0.4993 - val_loss: 1.7960 - val_accuracy: 0.5036 - val_balanced_accuracy: 0.4950\n",
      "Epoch 4/25\n",
      "70/70 [==============================] - 10s 140ms/step - loss: 1.8513 - accuracy: 0.3089 - balanced_accuracy: 0.5009 - val_loss: 1.7467 - val_accuracy: 0.4393 - val_balanced_accuracy: 0.4976\n",
      "Epoch 5/25\n",
      "70/70 [==============================] - 10s 143ms/step - loss: 1.8011 - accuracy: 0.3518 - balanced_accuracy: 0.4966 - val_loss: 1.6837 - val_accuracy: 0.5321 - val_balanced_accuracy: 0.4931\n",
      "Epoch 6/25\n",
      "70/70 [==============================] - 10s 146ms/step - loss: 1.7444 - accuracy: 0.3671 - balanced_accuracy: 0.4979 - val_loss: 1.5945 - val_accuracy: 0.5036 - val_balanced_accuracy: 0.4954\n",
      "Epoch 7/25\n",
      "70/70 [==============================] - 10s 149ms/step - loss: 1.7202 - accuracy: 0.3823 - balanced_accuracy: 0.4997 - val_loss: 1.5181 - val_accuracy: 0.5536 - val_balanced_accuracy: 0.4959\n",
      "Epoch 8/25\n",
      "70/70 [==============================] - 10s 145ms/step - loss: 1.6245 - accuracy: 0.4467 - balanced_accuracy: 0.4989 - val_loss: 1.4538 - val_accuracy: 0.5536 - val_balanced_accuracy: 0.4966\n",
      "Epoch 9/25\n",
      "70/70 [==============================] - 11s 153ms/step - loss: 1.5528 - accuracy: 0.4432 - balanced_accuracy: 0.4937 - val_loss: 1.4148 - val_accuracy: 0.5464 - val_balanced_accuracy: 0.4971\n",
      "Epoch 10/25\n",
      "70/70 [==============================] - 11s 154ms/step - loss: 1.5516 - accuracy: 0.4467 - balanced_accuracy: 0.4961 - val_loss: 1.4029 - val_accuracy: 0.5464 - val_balanced_accuracy: 0.4945\n",
      "Epoch 11/25\n",
      "70/70 [==============================] - 11s 153ms/step - loss: 1.4912 - accuracy: 0.4906 - balanced_accuracy: 0.4945 - val_loss: 1.3903 - val_accuracy: 0.5143 - val_balanced_accuracy: 0.4967\n",
      "Epoch 12/25\n",
      "70/70 [==============================] - 11s 161ms/step - loss: 1.4338 - accuracy: 0.4727 - balanced_accuracy: 0.4972 - val_loss: 1.3278 - val_accuracy: 0.5571 - val_balanced_accuracy: 0.4956\n",
      "Epoch 13/25\n",
      "70/70 [==============================] - 11s 155ms/step - loss: 1.3747 - accuracy: 0.4942 - balanced_accuracy: 0.4980 - val_loss: 1.2759 - val_accuracy: 0.6250 - val_balanced_accuracy: 0.4943\n",
      "Epoch 14/25\n",
      "70/70 [==============================] - 12s 167ms/step - loss: 1.2515 - accuracy: 0.5434 - balanced_accuracy: 0.4983 - val_loss: 1.2402 - val_accuracy: 0.6000 - val_balanced_accuracy: 0.4956\n",
      "Epoch 15/25\n",
      "70/70 [==============================] - 11s 162ms/step - loss: 1.2834 - accuracy: 0.5139 - balanced_accuracy: 0.4968 - val_loss: 1.2676 - val_accuracy: 0.5536 - val_balanced_accuracy: 0.4965\n",
      "\n",
      "Epoch 00015: ReduceLROnPlateau reducing learning rate to 9.999999747378752e-06.\n",
      "Epoch 16/25\n",
      "70/70 [==============================] - 11s 157ms/step - loss: 1.2590 - accuracy: 0.5157 - balanced_accuracy: 0.4971 - val_loss: 1.2465 - val_accuracy: 0.5893 - val_balanced_accuracy: 0.4936\n",
      "\n",
      "Epoch 00016: ReduceLROnPlateau reducing learning rate to 1e-06.\n",
      "Epoch 17/25\n",
      "70/70 [==============================] - 11s 156ms/step - loss: 1.2068 - accuracy: 0.5461 - balanced_accuracy: 0.4959 - val_loss: 1.2431 - val_accuracy: 0.5893 - val_balanced_accuracy: 0.4937\n",
      "Epoch 00017: early stopping\n"
     ]
    }
   ],
   "source": [
    "history = model.fit(\n",
    "    [X_train_ids, X_train_masks],\n",
    "    y7_train_encoded,\n",
    "    epochs=25,\n",
    "    batch_size=16,\n",
    "    validation_data=([X_val_ids, X_val_masks], y7_test_encoded),\n",
    "    class_weight={0: 3.2565597667638486,\n",
    "                     1: 0.7387566137566137,\n",
    "                     2: 10.638095238095238,\n",
    "                     3: 0.7822128851540616,\n",
    "                     4: 0.7708764665286404,\n",
    "                     5: 0.5164123901987979,\n",
    "                     6: 1.363858363858364},\n",
    "    callbacks=[model_checkpoint, early_stopping, reduce_lr]\n",
    ")"
   ]
  },
  {
   "cell_type": "code",
   "execution_count": 355,
   "id": "dK8dFXyE0EM0",
   "metadata": {
    "id": "dK8dFXyE0EM0"
   },
   "outputs": [
    {
     "name": "stdout",
     "output_type": "stream",
     "text": [
      "Validation Loss: 1.243102788925171\n",
      "Validation Accuracy: 0.5892857313156128\n",
      "Validation Balanced Accuracy (TensorFlow Metric): 0.497655987739563\n",
      "Balanced Accuracy (sklearn): 0.5391042559481136\n",
      "        loss  val_loss  accuracy  val_accuracy\n",
      "0   1.993154  1.913456  0.159355      0.221429\n",
      "1   1.932931  1.905609  0.232766      0.253571\n",
      "2   1.895630  1.795998  0.257833      0.503571\n",
      "3   1.851301  1.746713  0.308863      0.439286\n",
      "4   1.801058  1.683744  0.351835      0.532143\n",
      "5   1.744434  1.594463  0.367055      0.503571\n",
      "6   1.720224  1.518059  0.382274      0.553571\n",
      "7   1.624507  1.453824  0.446732      0.553571\n",
      "8   1.552797  1.414809  0.443151      0.546429\n",
      "9   1.551602  1.402866  0.446732      0.546429\n",
      "10  1.491212  1.390277  0.490600      0.514286\n",
      "11  1.433756  1.327814  0.472695      0.557143\n",
      "12  1.374738  1.275858  0.494181      0.625000\n",
      "13  1.251493  1.240174  0.543420      0.600000\n",
      "14  1.283405  1.267559  0.513876      0.553571\n",
      "15  1.259026  1.246490  0.515667      0.589286\n",
      "16  1.206789  1.243103  0.546106      0.589286\n"
     ]
    },
    {
     "data": {
      "image/png": "[encoded data removed]",
      "text/plain": [
       "<Figure size 1400x600 with 2 Axes>"
      ]
     },
     "metadata": {},
     "output_type": "display_data"
    }
   ],
   "source": [
    "from sklearn.metrics import balanced_accuracy_score\n",
    "import numpy as np\n",
    "\n",
    "# Evaluate the model on the validation set\n",
    "val_results = model.evaluate([X_val_ids, X_val_masks], y7_test_encoded, verbose=0)\n",
    "val_loss = val_results[0]\n",
    "val_accuracy = val_results[1]  # Assuming the second metric is accuracy\n",
    "val_balanced_accuracy = val_results[2]  # Assuming the third metric is BalancedAccuracy\n",
    "\n",
    "print(f\"Validation Loss: {val_loss}\")\n",
    "print(f\"Validation Accuracy: {val_accuracy}\")\n",
    "print(f\"Validation Balanced Accuracy (TensorFlow Metric): {val_balanced_accuracy}\")\n",
    "\n",
    "# Predict on the validation set\n",
    "val_predictions = model.predict([X_val_ids, X_val_masks])\n",
    "val_pred_labels = np.argmax(val_predictions, axis=1)\n",
    "\n",
    "# Calculate Balanced Accuracy using sklearn\n",
    "balanced_acc = balanced_accuracy_score(y7_test_encoded, val_pred_labels)\n",
    "print(f\"Balanced Accuracy (sklearn): {balanced_acc}\")\n",
    "\n",
    "# Visualize training history\n",
    "history_df = pd.DataFrame(history.history)\n",
    "print(history_df[['loss', 'val_loss', 'accuracy', 'val_accuracy']])\n",
    "\n",
    "# Plot training & validation loss values\n",
    "plt.figure(figsize=(14, 6))\n",
    "\n",
    "plt.subplot(1, 2, 1)\n",
    "plt.plot(history_df['loss'], label='Training Loss')\n",
    "plt.plot(history_df['val_loss'], label='Validation Loss')\n",
    "plt.title('Model Loss')\n",
    "plt.xlabel('Epoch')\n",
    "plt.ylabel('Loss')\n",
    "plt.legend()\n",
    "\n",
    "# Plot training & validation accuracy values\n",
    "plt.subplot(1, 2, 2)\n",
    "plt.plot(history_df['accuracy'], label='Training Accuracy')\n",
    "plt.plot(history_df['val_accuracy'], label='Validation Accuracy')\n",
    "plt.title('Model Accuracy')\n",
    "plt.xlabel('Epoch')\n",
    "plt.ylabel('Accuracy')\n",
    "plt.legend()\n",
    "\n",
    "plt.show()"
   ]
  },
  {
   "cell_type": "code",
   "execution_count": 358,
   "id": "0b6eaf2d-de64-4274-bd87-6f103395cc49",
   "metadata": {
    "id": "0b6eaf2d-de64-4274-bd87-6f103395cc49"
   },
   "outputs": [
    {
     "name": "stdout",
     "output_type": "stream",
     "text": [
      "Average balanced accuracy of 2 class and 7 class: 0.6398572445725081\n"
     ]
    }
   ],
   "source": [
    "print(\"Average balanced accuracy of 2 class and 7 class:\", (BA2+balanced_acc)*0.5)"
   ]
  },
  {
   "cell_type": "code",
   "execution_count": 359,
   "id": "a557ee2b-1b1c-4389-8875-14c9b4987a7b",
   "metadata": {
    "id": "a557ee2b-1b1c-4389-8875-14c9b4987a7b"
   },
   "outputs": [
    {
     "data": {
      "text/html": [
       "<div>\n",
       "<style scoped>\n",
       "    .dataframe tbody tr th:only-of-type {\n",
       "        vertical-align: middle;\n",
       "    }\n",
       "\n",
       "    .dataframe tbody tr th {\n",
       "        vertical-align: top;\n",
       "    }\n",
       "\n",
       "    .dataframe thead th {\n",
       "        text-align: right;\n",
       "    }\n",
       "</style>\n",
       "<table border=\"1\" class=\"dataframe\">\n",
       "  <thead>\n",
       "    <tr style=\"text-align: right;\">\n",
       "      <th></th>\n",
       "      <th>IDText</th>\n",
       "      <th>Text</th>\n",
       "      <th>c_text1</th>\n",
       "      <th>c_text2</th>\n",
       "      <th>c_text3</th>\n",
       "    </tr>\n",
       "  </thead>\n",
       "  <tbody>\n",
       "    <tr>\n",
       "      <th>0</th>\n",
       "      <td>TXT0001</td>\n",
       "      <td>Lu mau org2 pro-demokrasi di negara ini bisa p...</td>\n",
       "      <td>Lu mau org2 prodemokrasi di negara ini bisa pu...</td>\n",
       "      <td>kamu mau orang-orang prodemokrasi di negara in...</td>\n",
       "      <td>orang orang prodemokrasi negara sempat ngelawa...</td>\n",
       "    </tr>\n",
       "    <tr>\n",
       "      <th>1</th>\n",
       "      <td>TXT0002</td>\n",
       "      <td>Prabowo ditanya soal hutang luar negeri dia me...</td>\n",
       "      <td>Prabowo ditanya soal hutang luar negeri dia me...</td>\n",
       "      <td>prabowo ditanya soal hutang luar negeri dia me...</td>\n",
       "      <td>prabowo hutang negeri hutang negeri indonesia ...</td>\n",
       "    </tr>\n",
       "    <tr>\n",
       "      <th>2</th>\n",
       "      <td>TXT0003</td>\n",
       "      <td>kiki_daliyo  Ganjar Pranowo itulah beliau soso...</td>\n",
       "      <td>kikidaliyo Ganjar Pranowo itulah beliau sosok ...</td>\n",
       "      <td>kikidaliyo ganjar pranowo itulah beliau sosok ...</td>\n",
       "      <td>kikidaliyo ganjar pranowo sosok mengagunhkan n...</td>\n",
       "    </tr>\n",
       "    <tr>\n",
       "      <th>3</th>\n",
       "      <td>TXT0004</td>\n",
       "      <td>@kumparan Prabowo Gibran yang bisa melakukan i...</td>\n",
       "      <td>Prabowo Gibran yang bisa melakukan itu semua d...</td>\n",
       "      <td>prabowo gibran yang bisa melakukan itu semua d...</td>\n",
       "      <td>prabowo gibran rakyat</td>\n",
       "    </tr>\n",
       "    <tr>\n",
       "      <th>4</th>\n",
       "      <td>TXT0005</td>\n",
       "      <td>@sniperruben45 @uda_zulhendra @ainunnajib Lah ...</td>\n",
       "      <td>Lah justru yg gak nyambung junjungan elu aomkm...</td>\n",
       "      <td>lah justru yang gak nyambung junjungan kamu ao...</td>\n",
       "      <td>gak nyambung junjung aomkmkmkmk bicara etika n...</td>\n",
       "    </tr>\n",
       "  </tbody>\n",
       "</table>\n",
       "</div>"
      ],
      "text/plain": [
       "    IDText                                               Text  \\\n",
       "0  TXT0001  Lu mau org2 pro-demokrasi di negara ini bisa p...   \n",
       "1  TXT0002  Prabowo ditanya soal hutang luar negeri dia me...   \n",
       "2  TXT0003  kiki_daliyo  Ganjar Pranowo itulah beliau soso...   \n",
       "3  TXT0004  @kumparan Prabowo Gibran yang bisa melakukan i...   \n",
       "4  TXT0005  @sniperruben45 @uda_zulhendra @ainunnajib Lah ...   \n",
       "\n",
       "                                             c_text1  \\\n",
       "0  Lu mau org2 prodemokrasi di negara ini bisa pu...   \n",
       "1  Prabowo ditanya soal hutang luar negeri dia me...   \n",
       "2  kikidaliyo Ganjar Pranowo itulah beliau sosok ...   \n",
       "3  Prabowo Gibran yang bisa melakukan itu semua d...   \n",
       "4  Lah justru yg gak nyambung junjungan elu aomkm...   \n",
       "\n",
       "                                             c_text2  \\\n",
       "0  kamu mau orang-orang prodemokrasi di negara in...   \n",
       "1  prabowo ditanya soal hutang luar negeri dia me...   \n",
       "2  kikidaliyo ganjar pranowo itulah beliau sosok ...   \n",
       "3  prabowo gibran yang bisa melakukan itu semua d...   \n",
       "4  lah justru yang gak nyambung junjungan kamu ao...   \n",
       "\n",
       "                                             c_text3  \n",
       "0  orang orang prodemokrasi negara sempat ngelawa...  \n",
       "1  prabowo hutang negeri hutang negeri indonesia ...  \n",
       "2  kikidaliyo ganjar pranowo sosok mengagunhkan n...  \n",
       "3                              prabowo gibran rakyat  \n",
       "4  gak nyambung junjung aomkmkmkmk bicara etika n...  "
      ]
     },
     "execution_count": 359,
     "metadata": {},
     "output_type": "execute_result"
    }
   ],
   "source": [
    "df_test = pd.read_csv(\"C:/Users/andre/Downloads/SatriaDataScience-main/test_cleaned-no_stemstop.csv\",sep=\",\")\n",
    "\n",
    "lemmatizer = Lemmatizer()\n",
    "tokenizer = Tokenizer()\n",
    "stopword = StopWord()\n",
    "\n",
    "# create a list text\n",
    "text_test = list(df_test['c_text2'])\n",
    "\n",
    "corpus1 = []\n",
    "for i in range(len(text_test)):\n",
    "    r = re.sub('[^a-zA-Z]', ' ', text_test[i])\n",
    "    r = r.lower()\n",
    "    r = r.split()\n",
    "    r = [word for word in r if word not in stopword.get_stopword()]\n",
    "    r = [lemmatizer.lemmatize(word) for word in r]\n",
    "    r = ' '.join(r)\n",
    "    corpus1.append(r)\n",
    "\n",
    "#assign corpus to data['text']\n",
    "df_test['c_text3'] = corpus1\n",
    "df_test.head()"
   ]
  },
  {
   "cell_type": "code",
   "execution_count": 360,
   "id": "4ARRtuADN5ex",
   "metadata": {
    "id": "4ARRtuADN5ex"
   },
   "outputs": [
    {
     "data": {
      "text/plain": [
       "(1000, 7300)"
      ]
     },
     "execution_count": 360,
     "metadata": {},
     "output_type": "execute_result"
    }
   ],
   "source": [
    "test_cv = cv.transform(corpus1)\n",
    "test_cv.shape"
   ]
  },
  {
   "cell_type": "code",
   "execution_count": 362,
   "id": "4M5hwUtLOWFF",
   "metadata": {
    "id": "4M5hwUtLOWFF"
   },
   "outputs": [],
   "source": [
    "ispol = best_model.predict(test_cv)"
   ]
  },
  {
   "cell_type": "code",
   "execution_count": 363,
   "id": "MOPrTfnlRczr",
   "metadata": {
    "id": "MOPrTfnlRczr"
   },
   "outputs": [
    {
     "name": "stdout",
     "output_type": "stream",
     "text": [
      "2      kikidaliyo ganjar pranowo sosok mengagunhkan n...\n",
      "4      gak nyambung junjung aomkmkmkmk bicara etika n...\n",
      "5      nelayan jebak kredit macet ganjar pranowo mahf...\n",
      "9      ganjarmahfud harap tumbuh ekonomi bahagia new ...\n",
      "10     ganjar lipat anis anis nilai wo pancing anis k...\n",
      "                             ...                        \n",
      "986    anggar unt beli alutsita bekas t ga erti subst...\n",
      "987    puncak komedi menteri tahan nilai jelek mantan...\n",
      "992    sisa polarisasi loyalis jokowi loyalis prabowo...\n",
      "995    bikin bangga deh ganjarmahfud alokasi belanja ...\n",
      "998    biasa rembuk gaya pimpin ganjar gubernur jaten...\n",
      "Name: c_text3, Length: 364, dtype: object\n"
     ]
    }
   ],
   "source": [
    "df_test[\"LabelPol\"]= ispol\n",
    "ispol_filtered = df_test[df_test[\"LabelPol\"] != \"Politik\"]\n",
    "pd.DataFrame(ispol_filtered)\n",
    "\n",
    "X_test2 = ispol_filtered[\"c_text3\"]\n",
    "print(X_test2)"
   ]
  },
  {
   "cell_type": "code",
   "execution_count": 364,
   "id": "fcab3277-185e-4328-8847-2331903bd9d9",
   "metadata": {},
   "outputs": [
    {
     "data": {
      "text/plain": [
       "['kikidaliyo ganjar pranowo sosok mengagunhkan nilai nilai pancasila sadar hebat bahagia new year',\n",
       " 'gak nyambung junjung aomkmkmkmk bicara etika ngatain anies omon omon nyenyek tuh anies sopan lho gak tertawa brutal pasang wajah ejek bunyi hutang nyuruh ajar ekonomi',\n",
       " 'nelayan jebak kredit macet ganjar pranowo mahfud md buka pintu bebas',\n",
       " 'ganjarmahfud harap tumbuh ekonomi bahagia new year',\n",
       " 'ganjar lipat anis anis nilai wo pancing anis keluarin blunder angka hina beda wajar dgan angka',\n",
       " 'saking pen junjung mrk brkuasa dlanggar mlempem letoy hdapi planggaran mrk bretika',\n",
       " 'masyaallah gegap gempita sambut hadir ganjar pondok pesantren nawawi berjan purworejo semarak baris santri kunjung ganjar pranowo doa baik hajat kepala negara rakyat indonesia kabul tuhan maha esa aamiin',\n",
       " 'ganjarmahfud harap tingkat investasi riset inovasi industri unggul nyata bahagia new year',\n",
       " 'kampanye politik anies pilgub dki pengaruh dinamika masyarakat generasi tua pendam benci sulit baik generasi muda dampak kohesi sosial kelompok usia populasi',\n",
       " 'capres cawapres ganjar pranowo mahfud md mari bersamasama buka jalan nelayan jebak kredit macet hasil langkah bebas finansial',\n",
       " 'sebgai negara pulau pasifik utara selatan barat timur ngra samudra colek',\n",
       " 'hadir urut milu ganjar pranowo desa karanganyar kabupaten rembang nelayan suka cita senang program unggul hapus kredit macet utang nelayan ganjar milik nelayan besar bantu lunas perintah hitung kredit macet sektor ikan indonesia ganjar kredit macet rp miliar ganjarmahfud',\n",
       " 'abah online roket figur anies populer kalang anak anak milenial anakanak genz gagas gaya komunikasi anies hasil pikat anak anak muda anak anak genz warna kancah berpoltikan',\n",
       " 'tnp usung anies dki partai gurem curut geri dra layak gubernur',\n",
       " 'goganjargo ganjar optimis capai tumbuh ekonomi ganjar ganjar mahfud hebat perempuan maju',\n",
       " 'ganjar pranowo jabat anggota dpr usung pdi juang komitmen semangat layan masyarakat milik alam legislatif upaya langsung interaksi masyarakat hadap tantang berat ganjar gigih komitmen kontribusi positif',\n",
       " 'kawasan ekonomi khusus peluang besar investasi dukung ganjarmahfud bahagia new year',\n",
       " 'program pasang capres cawapres ganjar pranowo mahfud md solusi jitu dorong tumbuh ekonomi desa',\n",
       " 'inisiatif ganjarmahfud harap tumbuh ekonomi adil umkm tulang punggung ekonomi rakyat bahagia new year',\n",
       " 'investasi indonesia ganjarmahfud bahagia new year',\n",
       " 'algoritma instagram dorong popularitas kampanye anies konten reels tembus juta',\n",
       " 'ganjar beasiswa cipta generasi terus unggul',\n",
       " 'umur alutsista modernisasi prabowo miss his shot alas f f operasi hingga operasi supportnya program overhaul nama mlu midlife upgrade overhaul airframe nambal ganti mesin diswap besar prabowo gagal menyebubkan transisi alutsista rusia barat mudah tni',\n",
       " 'insentif pajak ganjarmahfud picu lahir startup kualitas bahagia new year',\n",
       " 'capres nomor urut ganjar pranowo bentuk lembaga coast guard jaga kelak menang pilih presiden pilpres ganjar bentuk coast guard beres tumpang tindih lembaga negara tangan laut',\n",
       " 'inspiratif pasang capres cawapres ganjar pranowo mahfud md buka peluang bisnis lokal kredit koprasi umkm sukses usaha nct wish',\n",
       " 'ganjarmahfud pilih wujud sektor tani ikan bahagia new year',\n",
       " 'garda samud ra garda depan cermin sungguh ganjar pranowo jaga aman stabilitas wilayah maritim',\n",
       " 'mulutmanies terima prabowo jeli belanja alutsista penasaran bebas ptn top menhan nyebokin nangisin bodoh pt tmi',\n",
       " 'sri mulyani sasar gagal prabowo kelola anggar tahan untung menteri uang keren smi gunting gak beres terus indonesia',\n",
       " 'ganjar mahfud insya allah putus rantai miskin indonesia program unggul',\n",
       " 'prwakilan tokoh hindu tamil aju bangun tmpat ibadah era jahat kelamin jokowipk ahok era jahat kelamin anies mrek pya tmpat ibadahdi mnit bapak wakil hindu tamilbilang mreka rasa pancasila bhineka tunggal ika',\n",
       " 'ganjar bagus dukung anggar tahan pdb eksekusi senjata hiprrsonik senjata quantum wkwkwkw',\n",
       " 'ganjarmahfud pasang komitmen tingkat lapis masyarakat bahagia new year',\n",
       " 'skenario riil bayang anies figur karismatik oposisi megawati zaman orde',\n",
       " 'pasang duet capres cawapres ganjar pranowo mahfud md inspirasi laku umkm kredit langkah cerdas sukses temanteman bisnisjn c',\n",
       " 'beda responnya bicara program apresiasi debat bicara wartawan hati diutarain bicara tahan bahas anggar komisi i hati kait tahan negara',\n",
       " 'prabowo taking gaza as example of lemah tindas he definitely dgaf',\n",
       " 'anis suka amerika cs alat demokrasi adil harga bangsa menoton ganjar benah sistem administrasi enak dengar dongeng tidur hebat bahagia new year',\n",
       " 'anis dijanjiin kursi tri wong anak prabowo',\n",
       " 'salam kopi joni teman teman',\n",
       " 'anies presiden asn tahan sedia rumah dinas naik gaji',\n",
       " 'masbowogbran pasti erti mebangun investasi patriotisme harap masyarakat maju indonesia karenahati baikpakbowo',\n",
       " 'food estate triliun anggar belanja menhan triliun beli pesawat mirrage triliun tanah hektar duit gaji receh kaum duafa gak mikir',\n",
       " 'anies sebar bohong massif statement anies bohong bengis jahat sengaja tebar isu bohong jatuh prabowo anggar kemhan besar triliun alutsista bekas omonomon alias omong bohong anies anggar kemhan triliun prajurit rumah dinas didik rumah sakit tentara triliun belanja alutsista sd anggar kemhan besar an triliun belanja prajurit rumah pelihara alutsista alutsista persen sd persen besar triliun sd terang anies bohong arang jatuh prabowo klarifikasi bohong anies debat bohong anies sebar seluruh indonesia laku bohong sengaja jahat masyarakat percaya bohong',\n",
       " 'curah hati colong anies baswedan orang papua rawat satu kebhinekaan warga papua curhat anies separatis warga papua rawat satu kebhinekaan',\n",
       " 'satusatunya hilir jalan kuasa hilir kkn penuh prasyarat coblos total rejim jokowi part',\n",
       " 'anies hilang otoritas bicara etika debat bicara rekam jejak debat tidak hal bohong publik jatuh rival politik bohong kait belanja alutsista bekas triliun sebut rahasia tahan bahaya gadai selamat daulat indonesia omonomon kait diplomasi prabowo hadir forum baik kuat domestik tahan kuat ekonomi sejahtera budaya kaya proses diplomasi martabat teladan beda anies diplomasi modal omonomon cowok suka rayu cewek pintar kaya bantu fakta bokek bohong gak hormat dengar dunia',\n",
       " 'rasa pr besar anies ga malesmalesan dr kelompok main isu sara pr besar renti bicara isu toleransi ruangruang berac hotelhotel mewah intoleransi lahir dr timpang ga jawab',\n",
       " 'tumbuh ekonomi adil fokus utama ganjarmahfud bahagia new year',\n",
       " 'ganjarmahfud orang rasa manfaat tumbuh ekonomi adil bahagia new year',\n",
       " 'patut apresiasi ajar aniescondisi ekonomi tara masyarakat efek korupsi terjadiharus masyarakat makmur',\n",
       " 'menteri bumn erick thohir titip tanggung besar jaga satu bangsa indonesia calon presiden nomor urut prabowo subianto',\n",
       " 'ganjarmahfud sikat korupsi tanyajawab capres kpk berantas korupsi negeri komitmen pimpin dasar rekam jejak lanjut tegak hukum kuat lembaga korupsi jalan selaras tumbuh ekonomi',\n",
       " 'anies pusing wkwkwk visi misi amin gamblang tahan negara fokus kuat regional eh mulut beda wkwkwk',\n",
       " 'program pasang capres cawapres ganjar pranowo mahfud md dorong tumbuh ekonomi rata desa',\n",
       " 'regulasi platform digital adil ganjarmahfud bikin kuat saing moga indonesia main utama kancah ekonomi digital global bahagia new year',\n",
       " 'palestina tindas gk kuat militer palestina lemah ksh buku biar paham vatikan gk kuat militer berani tindas gk analogi kuat militer palestina gk lemah gk lemah lemah sistem sial pbb diam genosida langgar ham berat berani nuntut den haag afrika selatan',\n",
       " 'momen ganjar balas anies ekspor budaya ri bangga rich brian nik',\n",
       " 'program pasang capres cawapres ganjar pranowo mahfud md solusi jitu dorong tumbuh ekonomi desa',\n",
       " 'milik aura positif orang segan lihat ganjar pranowo sambut tani suka cita sekat blora des bicara bicara ganjar komitmen hapus miliar hutang macet tani bank perintah pikir ringan beban rakyat putih utang',\n",
       " 'inspiratif pasang capres cawapres ganjar pranowo mahfud md buka peluang bisnis lokal kredit koprasi umkm sukses usaha nct wish',\n",
       " 'harap ganjarmahfud moga alokasi anggar besar koperasi umkm bawa berkah usaha indonesia bahagia new year',\n",
       " 'pasang duet capres cawapres ganjar pranowo mahfud md inspirasi laku umkm kredit langkah cerdas sukses temanteman bisnisjn b',\n",
       " 'kualitas didik fasilitas sehat rasa masyarakat kecuali amin tekad rasa masyarakat indonesia tanggal februari pilih anies baswedan muhaimin iskandar rata indonesia',\n",
       " 'paham kuasa ganjar tahan aman politik negri luas dalam respek salut',\n",
       " 'tni tanggung biaya obat rawan ganjarmahfud aniaya oknum komputer b yonif raider',\n",
       " 'bsip kalteng warning lahan gunung tanam singkong dilakuin ganti jagung itu pakai polybag tanah polybag beda tanah hutan tsb',\n",
       " 'prabowo nilai toleransi polusi anis nilai prabowo nilai pildun u batal wadas nilai well hak nilai capres hak nilai lembaga otoritas independent acho kebelet benci gin',\n",
       " 'capres no urut capres ganjar pranowo strategi keren lanjut tambah baik program perintah era jn b',\n",
       " 'program program capres no urut capres ganjar pranowo lanjut tambah program perintah era mantapjn a',\n",
       " 'kontrak buka ganjar pranowo undang ambil cipta daulat pangan',\n",
       " 'kwik kian gie pesawat perang amerika masuk wilayah nkri apaapa prabowo tahan daulat gibran',\n",
       " 'ekatalog perintah sistem jalan emas umkm ganjarmahfud inovatif bahagia new year',\n",
       " 'edukasi susah cowo he knows how bad is ga presiden ga suka anies ga suka etika anies ceunah ga erti etika',\n",
       " 'takut cekal masyarakat caleg demokrat pasang gambar',\n",
       " 'tulus menteri bumn erick thohir titip pesan menhan prabowo subianto jaga toleransi umat agama indonesia',\n",
       " 'program pasang capres cawapres ganjar pranowo mahfud md solusi jitu dorong tumbuh ekonomi desa',\n",
       " 'bo asik pastiinpbowo gbranpasti dorong guna teknis hemat air wilayah tani industri masgbran',\n",
       " 'maklum paslon paham tahan negara lapang bukti parpol dukung dpr ri dukung anggar beli alutsista realistis paslon maha tidak tahu',\n",
       " 'anies kembali wibawa indonesia diplomasi aktif',\n",
       " 'laman resmi alas fiskal timbul gaduh masyarakat',\n",
       " 'regulasi platform digital adil kayak solusi ganjarmahfud moga wujud bahagia new year',\n",
       " 'wabah pmk rebak silam dr bebas pmk bikin tetep impor india murah harga murah banding risiko ancam',\n",
       " 'program pasang capres cawapres ganjar pranowo mahfud md solusi jitu dorong tumbuh ekonomi desa',\n",
       " 'program pasang capres cawapres ganjar pranowo mahfud md desa presisi investasi ekonomi kuat daya saing',\n",
       " 'prabowo khawatir intervensi negara utang',\n",
       " 'tarik ganjarmahfud fokus mudah akses masyarakat layan hukum dukung investasi bahagia new year',\n",
       " 'rekam jejak anies baswedan jakarta huni dp rp lawan politik kecil program dp gagas anies era program rumah mukim laksana komprehensif ragam butuh huni rangkai payung program integrasi nama jakhabitat bangun rumah susun sewa preferensi sewa kampung tinggal kampung kota bangun dp rp sanggup milik rumah hingga sedia huni jangkau mbagi z karir gaya hidup hal sedia rumah susun sewa anies cetak rekor bangun rumah susun sewa sejarah pemprov dki periode anggap gubernur profesional rumah susun sewa sewa gak panjang serah kepala unit kelola dp rp anggap gagal klaim nyinyiers kaum dendam sakit hati kalah pilgub apbd dki gerus pandemi dp rp mensupply unit apartemen jakarta dp rp laku apartemen komersil tingkat isi capai banding apartemen komersil dp kabul mimpi warga sewa huni kemudia kelas milik keluar bulan relatif warga difabel dp rp serang upaya hapus lawan politik serang anies halang hapus harap tutup sempat warga gapai mimpi milik rumah maklum',\n",
       " 'ganjar komitmen tingkat keluarga prajurit program beasiswa',\n",
       " 'program pasang capres cawapres ganjar pranowo mahfud md solusi jitu dorong tumbuh ekonomi desa',\n",
       " 'indonesia hubung diplomatik israel hubung indonesia hubung diplomatik israel hubung indonesia bidang dagang sinyalir prabowo hubung jabat amerika serikat perintah trump tempat indonesia mauritania negaranegara muslim dorong hubung israel gak bahaya taaa',\n",
       " 'ganjarmahfud pimpin dukung lapis masyarakat bahagia new year',\n",
       " 'keluarga prajurit komitmen ganjar',\n",
       " 'calon presiden nomor urut tumpang tindih sisi regulasi harmonisasi sinkronisasi tingkat putus pimpin tinggi berani ambil putus ganjar hal komitmen paslon tata institusi tahan aman wenang institusi sektor aman tumpang tindih panelis istora senayan jakarta tema tiga geopolitik hubung tahan aman tonton seru debat tiga pilpres youtube kompascom',\n",
       " 'gaya pimpin ganjar pranowo capres no urut patut jempol terjun langsung masyarakat calon presiden legislatif gaya pimpin terjun masyarakat dengar langsung aspirasi warga',\n",
       " 'duga keroyok rawan ganjar prajurit tni tahan brigjen kristomei tindak',\n",
       " 'diaspora indo ln ketawa anies bicara kuliner rumah budaya region dunia passport hijau denger ikut ketawa',\n",
       " 'jujur anies beneran tuntut tanggung negara thdp anggar program kecewa approach tahan slm iniyg posisi sbg ubah sadly org indonesia suka dengar mode kritik dpn',\n",
       " 'ganjarmahfud harap umkm rasa sentuh langsung perintah luas jangkau tingkat daya saing bahagia new year',\n",
       " 'ganjarmahfud komitmen berantas habis praktik kkn strategi wujud tumbuh ekonomi indonesia',\n",
       " 'ganjarmahfud solusi wujud indonesia rata tumbuh ekonomi bahagia new year',\n",
       " 'terima kasih sebut tangan keras seksual baca visi misi hubung reformasi polisi terima kasih anies sebut lindung perempuanamp anak tppo aman lemah tindas',\n",
       " 'ganjarmahfud perang miskin bijak efektif bahagia new year',\n",
       " 'ganjarmahfud cipta iklim investasi kondusif bahagia new year',\n",
       " 'xbq rohingya masuk nyalahin anies',\n",
       " 'berani sumpah utama rakyat makmur bangsa indonesia adil hukum ekonomi rakyat indonesia',\n",
       " 'ganjarmahfud bawa semangat sportivitas satu lapis masyarakat bahagia new year',\n",
       " 'anies protes simulasi surat paslon mainmain',\n",
       " 'bonus demografi potensi besar manfaat pacu tumbuh ekonomi ganjarmahfud milik visi bahagia new year',\n",
       " 'dukung ganjar mahfud indonesia satu tumbuh ekonomi bahagia new year',\n",
       " 'program pasang capres cawapres ganjar pranowo mahfud md solusi jitu dorong tumbuh ekonomi desa',\n",
       " 'ganjarmahfud milik komitmen kuat investasi desa bahagia new year',\n",
       " 'wuih mandiri industri digital tingkat dukung ganjarmahfud umkm lokal ecommerce dorong besar tumbuh ekonomi digital bahagia new year',\n",
       " 'didik investasi jangka ganjar prajurit milik dukung penuh',\n",
       " 'buzzerr manusia ramairamai bela oknum tni hajar rawan ganjarmahfud ironi dukung benar tindak oknum tni allah urat nadi manusia partai politik milik anggota legislatif kuat daerah kampanye model parade pakai knalpot brong pakai mobil buka bawa alat musik calegcaleg sambut uforia pesta demokrasi basis dapilnya pdip lai hal anggap jamak lumrah tradisi pilih caleg presiden th tangkap polisi satlantas motor dibkandangin pajak mati surat calegnya kasih uang ganti rugi kader kena bukti langgar motor tahan jadi boyolali dukung bela tni kejam moral minggat garagara nomor rekening masuk aparat netral rangkai ritual manusia oknum tni markas boyolali keras kemarin jenguk salah korban bilang tuju seret masuk markas hajar bancaan luka berat korban sadar sore kemarin tugas tni jalan raya boyolali jalan provinsi jalab tni kepala satu telepon kasatlantas tangkap langgar lalulintas hukum lintas hajar luka parah empati buzerr hajar rawan kemanusian warga sipil hakim oknum tni keji tindak semanamena tolong tementemen empati kawal biar ulang timpa mana terimakasih',\n",
       " 'ganjarmahfud kotakota magnet ekonomi tarik investasi bahagia new year',\n",
       " 'gaza lindas kuat militer prabowo anggap empati',\n",
       " 'suasana bangsa penuh semangat cipta sholawat bangsa ganjarmahfud kota solo ribu masyarakat satu nyanyi lagu bangsa indonesia raya jawa jateng',\n",
       " 'hapus korupsi sejahtera jabat negara',\n",
       " 'hubung solid bijak profesional ganjarmahfud you rock',\n",
       " 'ganjar pranowo mahfud md pimpin rakyat dorong tumbuh ekonomi rata ganjar mahfud hebat guru ngaji juta',\n",
       " 'visi ganjarmahfud gerak tumbuh ekonomi rata penjuru indonesia bahagia new year',\n",
       " 'komitmen berantas korupsi hingga akarakarnya baik sistem hapus',\n",
       " 'alam legislatif eksekutif alam uji capres no urut ganjar pranowo jalan roda perintah',\n",
       " 'program pasang capres cawapres ganjar pranowo mahfud md solusi jitu dorong tumbuh ekonomi desa',\n",
       " 'sukses ganjarmahfud wujud janji alokasi persen anggar koperasi umkm ekonomi rakyat maju bahagia new year',\n",
       " 'ganjarmahfud harap umkm bijak nyata usaha anggar belanja nama dukung ekonomi rakyat bahagia new year',\n",
       " 'terima kasih ganjarmahfud persen anggar perintah bumn koperasi umkm moga peluang usaha kembang bahagia new year',\n",
       " 'ganjarmahfud bantu baik iklim investasi indonesia bahagia new year',\n",
       " 'kemarin purworejo warga aneh pks pkb gabung koalisi bilang nilai adil sosial rakyat indonesia anies baswedan muhaimin iskandar tepuk tangan nilai universal rasa ganggu satu kalang juang merdeka semangat rasa juang ubah indonesia',\n",
       " 'cawapres hasil langgar etika koalisi ga calon cawapres sahut an bicara ambisi anies',\n",
       " 'pimpin harap kuasa',\n",
       " 'ganjar optimis capai tumbuh ekonomi ganjar ganjar mahfud hebat lulus kerja',\n",
       " 'keliru klaim anies kait anggar menteri tahan rp triliun beli alutsista bekas',\n",
       " 'ganjarmahfud pimpin ubah kotakota pusat tumbuh ekonomi kuat bahagia new year',\n",
       " 'klaim tni tni ganjar milik paham komprehensif integratif ukur padu tahan negara alutsista prajurit tni polri geopolitik banding menhan hobi nyapres',\n",
       " 'tumbuh ekonomi ganjar pranowo pilih bangun indonesia bahagia new year',\n",
       " 'hasil ganjarmahfud bawa bahagia warga indonesia bahagia new year',\n",
       " 'anies tunduk amerika benci anies komentar apaapa lihat video',\n",
       " 'anies investasi tumbuh ekonomi cipta lapang kerja banding',\n",
       " 'tim anies lurus rp t dahnil bohong sebar dahnil anggar rp triliun menteri tahan beli alutsista bekas tuding anies nyata rp t alutsista bekas jatuh prabowo subianto statement anies bohong bengis jahat sengaja tebar hoaks jatuh prabowo anggar kemhan besar rp triliun alutsista bekas omonomon alias omongomong bohong anies anggar kemhan rp triliun dana prajurit rumah dinas didik hingga fasilitas sehat tentara anggar kemhan rp triliun prajurit rumah dinas didik rumah sakit tentara lainlain rp triliun belanja alutsista dahnil sebut anggar kemenhan hingga besar rp triliun tekan guna alutsista kisar angka persen rp t anggar kemhan besar rp an triliun belanja prajurit rumah pelihara alutsista lainlain dahnil lengkap klik',\n",
       " 'ganjarmahfud bijak top habis',\n",
       " 'ganjarmahfud pimpin tulus perhati khusus bangun ekonomi daerah tingkat indonesia',\n",
       " 'ganjarmahfud bawa investasi daerahdaerah bahagia new year',\n",
       " 'iseng cari google anies baswedan anggar tahan kemenhan capai triliun sesat',\n",
       " 'solo belah masyarakat pasar klewer pilih',\n",
       " 'program pasang capres cawapres ganjar pranowo mahfud md solusi jitu dorong tumbuh ekonomi desa',\n",
       " 'ganjarmahfud hasil nyata upaya tingkat bahagia new year',\n",
       " 'putus ganjarmahfud tingkat anggar tahan serius wujud maju industri tahan negeri',\n",
       " 'urus kuat militer yep rahasia negara none has to know but to whom it may concern anggar militer pikir dealan sebut angka t menhan jabarin tu duid rakyat hak',\n",
       " 'anies hadap dpr anggar kemenhan dibaha rapat buka karenan rahasia negara tahan omonomon',\n",
       " 'presiden joko widodo jokowi naik gaji prajurit tni timbang kalkulasi matang sesuai kondisi fiskal negara hal gaji personel tnipolri hal jokowi tanggap nyata calon presiden capres nomor urut anies rasyid baswedan debat capres sorot bijak perintah prajurit tni era jokowi parah banding era sby situasi fiskal situasi ekonomi berbedabeda putus naik naik matang jokowi resmi jalan tol bogor gerbang tol limo utama kota depok jawa barat',\n",
       " 'ganjar mahfud visioner program smk asrama langsung kerja solusi cemerlang putus sekolah entas miskin',\n",
       " 'hebat pasang capres cawapres ganjar pranowo mahfud md buka pintu sukses kredit koprasi umkm semangat laku bisnis lokal nct wish',\n",
       " 'wrap up nakes desak anies a thread stunting hpk sehat prioritas cipta generasi prestasi daya saing sekolah makan siang susu gratis rencana hamil kondisi sehat asupan tebaik hidup bayi susu gratis untung usaha susu tingkat impor',\n",
       " 'ganjar calon pimpin fokus bangun investasi didik',\n",
       " 'program pasang capres cawapres ganjar pranowo mahfud md solusi jitu dorong tumbuh ekonomi desa',\n",
       " 'masyaallah hebat sifat rendah hati milik almarhum gus dur tuju mbak ganjarmahfud pimpin rakyat indonesia unggul ppp mahfud wujud ekonomi indonesia bebas korupsi',\n",
       " 'kontrak buka capres no urut ganjar pranowo cermin peduli yuk jaga daulat pangan',\n",
       " 'kikidaliyo ganjar pranowo pimpin butuh ganjar makna nilai pancasila hebat bahagia new year',\n",
       " 'abah anies industri kreatif tanah air tiru korsel investasi budaya besarbesaran',\n",
       " 'libat masyarakat proses cegah korupsi kuat upaya hasil perang korupsi kerjasama lintas sektor partisipasi aktif elemen masyarakat',\n",
       " 'hasil survei media ekonomi bisnis basis amerika serikat as bloomberg survei ekonom analis senior indonesia kait kandidat pilpres hasil anies baswedan unggul',\n",
       " 'tulus capresku layan rakyat momen temu capresku tani blora ganjar komitmen tingkat subsidi pupuk pilih presiden layan tuanku rakyat sepenuh hati hapus kredit macet',\n",
       " 'mampu sinergi platform digital tiktok aset harga bangun libat masyarakat',\n",
       " 'gub gandeng aetra urus air bersih warga kecewa air alir itu keruh endap dipake terima kasih prabowo bantu ekonomi warga cilincing bulan bayar rb pam layan puas warga paksa beli air berat bantu orang bantu orang bantu orang bantu orang orang bantu bikin orang susah prinsip dr ayah pegang praktek gak peduli anggap rasa salam jari damai kasih sayang hadir bangsa lope kebon gemoy samsul',\n",
       " 'pik island segel anies jakarta maen pik jembatan batas jakarta banten biar selesai',\n",
       " 'duit pajak makasihnya fi',\n",
       " 'rafale perancis usd m indonesia usd m selisih triliun korupsi gerombol jokowi prabowo kah tolong kakek tolong',\n",
       " 'anies pelotot pajak orang kaya ri berani',\n",
       " 'inspiratif pasang capres cawapres ganjar pranowo mahfud md buka peluang bisnis lokal kredit koprasi umkm sukses usaha nct wish',\n",
       " 'bencana salah anies inisiasi bantu bangun sekolah',\n",
       " 'dukung ganjarmahfud investasi teknologi indonesia bahagia new year',\n",
       " 'moga ganjar presiden impor beras indonesia sawah luasss',\n",
       " 'jalan terjal liku rombong ganjar pranowo dusun nama desa gunungsari karanggayam kabupaten kebumen rinai hujan iring datang rombong surut semangat warga sambut gurat lelah paras ganjar langsung keliling desa sapa warga langkah kaki ganjar belabuh rumah kepala desa gunungsari nama sukarjo berlesahan seruput kopi ganjar dengar satu keluh warga cerita masalah individu hingga kolektif potensi wisata desa pimpin jawa periode pandemik paksa henti paham yaaa ganjar blusukan inap rumah gubernur jateng saat nyapres beda belah nyapres blusukan',\n",
       " 'dukung ga takut yakalo nauzubillah terpilihapa ga parah dr orba indonesia depan bebas bungkam negosiasi luar atur anggap wajar lbh bisnismau indonesia depan pimpin',\n",
       " 'ganjar optimis capai tumbuh ekonomi ganjar ganjar mahfud hebat guru ngaji juta',\n",
       " 'ganjar pranowo mahfud md tempat psikolog puskesmas sistem sehat nasional dampak positif tingkat mental masyarakat indonesia',\n",
       " 'ganjarmahfud buka peluang usaha swasta investasi riset bahagia new year',\n",
       " 'khianat khianat konstitusi nkri',\n",
       " 'jaga satu pecah belah rakyat bangsa salam damai',\n",
       " 'tweetan orang bodoh angkat isu buzzer intoleran anti pancasila bla bla fakta jakarta anies anggap pahlawan urus gereja masjid vihara izin gobloog gobloog',\n",
       " 'perhati ganjar prajurit tni au beli pesawat patut acung jempol ganjar gak ulang salah beli sukhoi th era presiden megawati beli pesawat su sk pesawat su mk nilai us juta nilai masalah langgar uu apbn beli rini sumarno orang percaya megawati jabat menteri beli alutsista sorot menteri tahan matori abdul djalil menteri uang boediono dprri rini soemarno langsung lapor presiden megawati ruwet sukhoi seret duga peran menantu megawati bahagia hapsoro akibat panja komisi dprri berkalikali sebut libat bahagia bantah',\n",
       " 'ganjarmahfud benarbenar harap usaha dukung umkm ekatalog alokasi anggar benarbenar bahagia new year',\n",
       " 'tuding sesat anies ingat prabowo emosional hadap negara',\n",
       " 'kelas komitmen anies berantas korupsi negara januari',\n",
       " 'tingkat anggar riset inovasi pdb jadi ganjarmahfud pilih bahagia new year',\n",
       " 'ganjar keren paham sob kongkrit ukur globalisasi strategi promosi budaya populer nusantara tumbuh ekonomi abw alokasi sd budaya pandang sbg investasi kuliner seni film tumbuh bawa global',\n",
       " 'kawasan ekonomi khusus kuat investasi ganjar mahfud mantap bahagia new year',\n",
       " 'capres nomor urut prabowo subianto ningkatin kualitas hidup negara neken korupsi indonesia omong belio sampein acara paku integritas kantor kpk salem',\n",
       " 'sekretaris dewan pakar timnas amin wijayanto samirin hapus pph kelompok pajak stimulus gerak ekonomi',\n",
       " 'terima kasih ganjar responsif proaktif atas masalah masyarakat cipta',\n",
       " 'ganjarmahfud investasi energi baru bahagia new year',\n",
       " 'masbowogbran pasti paham investasi semangat bagkitan semangat rakyat sejahterain indonesia karenahati baikpakbowo',\n",
       " 'kikidaliyo ganjar pranowo ganjar jaga rawat nilai pancasila hebat bahagia new year',\n",
       " 'program susu gratis tuai kecam prabowo beber impor juta sapi india',\n",
       " 'acara desak anies laku gubernur dkijd fix pilpres',\n",
       " 'program pasang capres cawapres ganjar pranowo mahfud md solusi jitu dorong tumbuh ekonomi desa',\n",
       " 'swasta manfaat insentif pajak subsidi usul ganjarmahfud bahagia new year',\n",
       " 'anis kritik tahan indonesia maksud prabowo langsung anis buka aib mampu militer indonesia sepakat ps aman sifat rahasia tahan kait anggar amp mandiri teknologi',\n",
       " 'ganjarmahfud magnet investasi kembang industri bahagia new year',\n",
       " 'ganjarmahfud bawa semangat satu olahraga indonesia bahagia new year',\n",
       " 'prabowo menhan buruk sejarah indonesia diri anggar tambah jebol perahu kayu rohingya tahan canggih kuat menhan sibuk ngurusin singkong indonesia tunggu hancur pimpin prabowo',\n",
       " 'septian r nada meletupletup tangan memukulmukul udara prabowo subianto luap kesal mandek kuasa momen mata najwa penasaran publik betulbetul nafsu genggam kuasa dendam kuasa orde prabowo anak emas bangun bisnis tebal kaya sampaisampai ratus ribu hektar lahan negara kuasa orde tumbang nepotisme sikat dampak prabowo satusatunya jaya raih kuasa raih ambisi menggebugebu manfaat genggam kuasa prabowo penuh hasrat pribadi kelompok kaca proyek food estate kalteng jabat menteri proyek triliun uap mana hektar lahan singkong mangkrak sawah kunjung panen proyek jalan pt agrinas milik menteri tahan orangorang kepercyaan prabowo gerindra jabat pimpin jajar komisaris isi purnawirawan tni anggota tim kampanye prabowo cerita beda proyek pangan pegang ahli rencana laksana matang ukur nepotisme wajar publik curiga proyek lahan keruk duit rakyat food estate bayang prabowo kuasa sektor kuasa program makan siang bagibagi susu anggar capai rp triliun tahun susu perah produksi negeri sanggup penuh persen duduk sisa impor austalia selandia program masuk akal paksa tambah beban impor tebak untung ternak asing importir isi kronikroni prabowo rawan main celah korupsi beban anggar sektorsektor belanja negara dampak prabowo acara sarasehan ekonom sebut anggar program ambil dana didik bansos dana bos subsidi didik pangkas bantu sosial nikmat warga potong wacana naik pajak membenani rakyat dipikirpikir situasi betulbetul kacau tatanan program rasa manfaat rakyat rusak program makan siang gratis kronikroni prabowo',\n",
       " 'jabatanya mundur selesai tanggal desember februari begini penting masyarakat gagas issu tunda jabat mk kabul mahkamah konstitusi allah lindung bangsa orangorang serakah',\n",
       " 'ganjar internet korupsi wan angin langsung melet lidah langsung menteri om bewok tangkap',\n",
       " 'ganjarmahfud desadesa milik akses adil layan publik bahagia new year',\n",
       " 'program pasang capres cawapres ganjar pranowo mahfud md dorong tumbuh ekonomi rata desa',\n",
       " 'program pasang capres cawapres ganjar pranowo mahfud md solusi jitu dorong tumbuh ekonomi desa',\n",
       " 'nahh laeku ga buka data prabowo senayan lawan anggota dpr ri ga rapat buka bahas anggar rahasia negara berita',\n",
       " 'teknologi militer kembang mari investasi tahan aman garagara prabowo',\n",
       " 'gak habis pikir lihat orang pilih anies lihat ngemeng desak anies or live tiktok gak lihat gubernur dki sblmnya seprti gak lihat hasil banding janji jakarta pimpin walk the talk',\n",
       " 'program pasang capres cawapres ganjar pranowo mahfud md solusi jitu dorong tumbuh ekonomi desa',\n",
       " 'anies anggap arogan serang sisi personal prabowo tahu milik prabowo publik prabowo kuasa rb tertawa lahan status hgu krisis lahan alami tani akibat alih fungsi lahan akibat kuasa gelintir elite negara lahan faktor produksi tani efek krisis lahan dampak krisis pangan visimisi ungkit ekonomi pancasila prabowo cermin ekonomi pancasila gambar ideas',\n",
       " 'moga regulasi platform digital ganjarmahfud beneran bawa dampak positif bahagia new year',\n",
       " 'pimpin ganjar cipta iklim investasi kondusif dorong tumbuh ekonomi cipta lapang kerja',\n",
       " 'sanggah prabowo kait debat capres mahfud komentar anggar tahan buka publik ngajak bicara dua rembuk debat ah wowo ngelesnya kilah gak kuasa data tahan',\n",
       " 'lihat bahagia ketemu ganjar sappo ganjar presiden gubernur ga beli hapus kredit macet momen ganjar pranowo sambut tani blora des ganjar komitmen hapus miliar hutang macet tani bank perintah',\n",
       " 'prabowo buruk etik bilang ndasmu forum wakil langgar etik berat bicara sesat bilang ajar ekonomi lulus fe ugm tolong kasih prabowo kaca gede biar ngaca gblok',\n",
       " 'program pasang capres cawapres ganjar pranowo mahfud md dorong tumbuh ekonomi rata desa',\n",
       " 'tahan investasi aman mari tingkat anggar tahan garagara prabowo',\n",
       " 'goganjargo ganjar optimis capai tumbuh ekonomi ganjar ganjar mahfud hebat uang saku posyandu',\n",
       " 'pt food station cipinang jaya karya anies sukses tani untung harga pangan stabil musim gak kayak food estate bikin jokowi prabowo tanam singkong tumbuh jagung panen anggar',\n",
       " 'utama kembang pemuda salah tempat anak muda posisi strategis sambut bonus demografi indonesia titik indonesia emas',\n",
       " 'cak imin kritik susu gratis susu impor',\n",
       " 'media ekonomi bisnis basis amerika serikat as bloomberg gelar survei ekonom analis senior indonesia kait kandidat unggul pilpres hasil anies baswedan unggul',\n",
       " 'anies entas miskin ekstrem sumbang besar miskin masyarakat desa desa pesisir anies baswedan entas miskin ekstrem dasar alam gubernur dki jakarta tulis rusdianto samawa fourbes indonesia calon presiden anies baswedan usung koalisi ubah bawa visi misi indonesia kandung unsur unsur catat rakyat indonesia visi misi komitmen entas anggap emergency gagal rezim visi misi indonesia pasang amin kerja tumbuh ekonomi produk domestik bruto pdb kapita anggur hingga tuntas miskin ekstrem visi misi tekan makmur rasa duduk tanah air timpang fokus rezim gagal total tuntas timpang nyata hadap pr pasang amin anies baswedan muhaimin iskandar nilai tumbuh ekonomi indonesia hasil anggur ekonomi indonesia tumbuh kisar kuartal untun anggur bps catat anggur indonesia capai juta orang februari kurang ribu orang banding februari tengah merosot percaya rakyat perintah negara polemik anggur miskin ekstrem bahas hal bahaya daulat negara perintah bohong rakyat muncul indeks miskin ekstrem klaim tinggal juta duduk mayoritas masyarakat pesisir upaya entas miskin pesisir langkah dasar tetap indonesia masuk kategori midle income trap perintah umum turun miskin ekstrem bohong besar angka miskin besar anies entas miskin ekstrem calon presiden koalisi ubah anies baswedan janji miskin indonesia turun angka miskin besar harap miskin ekstrem anies acara sarasehan ekonom indonesia menara bank mega jakarta sala rumit paham bijak perintah peran laku intervensi income dorong distribusi hasil tani ternak laut ikan faktor gagal bijak rezim nyata alam anies baswedan gubernur dki jakarta september persentase duduk miskin jakarta capai persen tingkat miskin turun hingga persen angka kecil indonesia jawa angka miskin banding daerah indonesia anies turun angka miskin bijak transparansi harga pasar lokal mekanisme kompetisi jalan untung konsumen harga klaim turun intervensi perintah salah hal konkret anies biaya hidup jangkau salah komponen harga pangan pasti suplai pangan harga murah target tumbuh ekonomi ratarata capai strategi middle income trap inklusif tingkat peran koperasi umkm dukung usaha wilayah indonesia manfaat ekonomi digital kelola ekonomi hijaubiru tumbuh industri manufaktur sumber anies entas miskin ekstrem',\n",
       " 'fakta perintah pusat tri agama aku dki provinsi baik jaga rukun agama asumsi narasi imajinasi orang dasar giring opini anies org intoleran',\n",
       " 'ganjarmahfud harap tingkat signifikan anggar riset inovasi cemerlang bahagia new year',\n",
       " 'bantu temanteman komisi i tpn komunikasi ksad panglima tni kontak pangdam ganjar belas oknum hukum ajar semenamena',\n",
       " 'program susu gratis tuai kecam prabowo beber impor juta sapi india',\n",
       " 'capres no urut capres ganjar pranowo bikin heboh lanjut tambah program program perintah era',\n",
       " 'lapor uang era anies wtp bapak era ahok amp gubernur kga raih era ahok smpai raport merah bapak bilang amburadul',\n",
       " 'bowo ny gak peka pdhl lawan pny mantan menhan jadi bahan counter tinggal ambil data mahfud menhan udh ckup ganjar bgni nilai nilai ganjar smua prajurit pny rumah anies',\n",
       " 'tiga capres pa unggul diplomasi tahan omon omon aje',\n",
       " 'viral ganjar live tiktok sehat mental anak muda',\n",
       " 'kontrak buka capres no urut ganjar pranowo cermin peduli yuk jaga daulat pangan',\n",
       " 'food estate tanam singkong panen jagung hutan gundul kepal tanggung mk moral etika canggung atur and kuasa',\n",
       " 'capres nomor urut papar visimisinya bidang debat tiga pilpres istora senayan jakarta papar kait siber anies singgung situs kemenhan bobol hacker anies sebut salah menteri presiden jokowi milik aset tanah ratus hektare banyak tentara rumah dinas anggar pakai beli alutsista bekas',\n",
       " 'peran perempuan tahan abai besar garagara prabowo',\n",
       " 'tingkat kuota subsidi pupuk janji komitmen nyata ganjar pranowo',\n",
       " 'lupa ganjar megawati pilgub jateng kader lokal pilih kalah rekomendasi emak pikir karma',\n",
       " 'aura presiden ganjar pranowo angwar sanusi banyuwangi nonton debat tiga langsung bayang presiden ganjar pranowo menang debat calon hadap negara asal negeri sepakat capres debat isi serang ejek hal jatuh lawan seteru capres menit debat samasama simpan dendam debat seteru warga negara waswas pimpin orang simpan dendam nasib nasib anakanak pimpin sibuk emosi pribadi ngeri janganjangan lancar dendam ancam rakyat aku lindung dengar jelas capres nomor ganjar pranowo bicara aman nasional negara jamin aman personal aman dunia digital ganjar bicara senjata modal hutang beli mampu negeri beli senjata butuh laut matra kuat hal logis besar negara laut susul tahan udara darat sederhana terima mengadaada amarah presiden penuh amarah hidup damai makmur bahagia hidup penuh khawatir waswas tebar takut benci jujur bilang ganjar cermin tenang mampu aura presiden salam sobar harahap',\n",
       " 'guna bonus demografi strategi pintar ganjarmahfud gerak tumbuh ekonomi bahagia new year',\n",
       " 'goganjargo ganjar optimis capai tumbuh ekonomi ganjar ganjar mahfud hebat perempuan maju',\n",
       " 'surat buka urus salah sensitif sensitif disclaimer double minoritas turun cina kristen dukung keras ahok kampanye teman keluarga kumpulin tanda tangan ahok gabung gerak lilin ahok vonis penjara milu presiden swing voter tiga kandidat tinggal posisi condong vote anies surat buka tulis anies ga ria acara desak anies indonesia',\n",
       " 'ganjarmahfud bijak tingkat anggar tahan indonesia tangguh atas tantang',\n",
       " 'ganjarmahfud kreatif persen anggar belanja perintah bumn dukung koperasi umkm cipta lingkung bisnis inklusif bahagia new year',\n",
       " 'sosok inspiratif ganjar motivasi generasi muda maju daerah',\n",
       " 'ea samaa ordal prabowo subianto plus belimbing sayur anak presiden cawapres langgar konstitusi keponakan uncle usman ketua mk',\n",
       " 'tahan investasi aman mari tingkat anggar tahan garagara prabowo',\n",
       " 'kapolri jenderal listyo sigit prabowo panglima tni jenderal agus subiyanto video conference jajar polda kodam indonesia kapolri sebut situasi papua kendali',\n",
       " 'bijak inovatif ganjar dorong positif tumbuh ekonomi wilayah',\n",
       " 'perang upper class nyerocos hasil kerja anies jabat gubernur ga nyata ngeluh macet grgr transportasi jakarta banyak ngoceh mobil pribadi ngoceh jis kampung bayam bicara tauga',\n",
       " 'hormat upaya rawat demokrasi agam ubah gelar desak anies jalan dengar kedok bersih nama baik lanjur lekat buruk pilgub dki jakarta',\n",
       " 'wawacanda ngena gmn jajar jakarta mikir bijak ambil paham nemu berita anies kemdikbud kartu nama huruf braile alas simpel biar tuna netra baca bantu',\n",
       " 'milu momen tentu sosok pimpin harap bayar pajak uang rakyat korupsi elit pimpin baik milu putar dorong tumbuh ekonomi konsumi tingkat deputi gubernur bank indonesia aida budiman bayang hal umkm pesat politik libat orang cetak hingga kuliner geliat banyak order milu naik rambah sektor putar ekonomi tingkat geliat kubu prabowo nama bodoh lihat narasi hemat uang negara gagal kubu prabowo lempar narasi tebar takut ancam dengar omong kosong bijak meresponnya senyum tertawa sila',\n",
       " 'yes pancasila bukti satu indonesia masyarakat aktif global bangsa kuat masbowogbran pasti karenahati baikpakbowo',\n",
       " 'sia sia bgn ikn pusat ekonomi ttp pulau jawa tenggelem pulau',\n",
       " 'ganjar optimis capai tumbuh ekonomi ganjar ganjar mahfud hebat',\n",
       " 'program makan siang gratis bagus senjang sosial hebat prabowo',\n",
       " 'milu indonesia sekolah unik dunia serta didik jt orang guru elit peduli nasib bangsa anies tim desak anies marwah demokrasi indonesia rakyat indonesia cerdik bijak citra joget tebar sembilan bahan pokok kalah didik indah desak anies tuju',\n",
       " 'bapak pakar menteri ekonomi kakek diri bni bisnis udh jaman karno dukung anis ganjar bego anh ajaib',\n",
       " 'jaga kuat tahan berani coba tantang garagara prabowo',\n",
       " 'atas konflik laut china selatan anies indonesia pimpin asean',\n",
       " 'wahhh tuh bilang ri miskingak tuhri kaya raya bukti mai impor sapi',\n",
       " 'capres no urut capres ganjar pranowo strategi keren lanjut tambah baik program perintah era',\n",
       " 'juta warga miskin jakarta subsidi pangan bulan beli daging sapi ayam telur ikan susu amp beras harga murah bayar rp ribu beli produk harga rp sisa subsidi pemprov dki jakarta th anies',\n",
       " 'reklamasi jokuwi ahok pulau henti anies pulau pulau reklamasi tutup rakyat henti anies',\n",
       " 'menteri bumn erick thohir titip tanggung besar jaga satu bangsa indonesia menteri tahan calon presiden nomor urut prabowo subianto',\n",
       " 'ganjarmahfud sektor maritim masyarakat bahagia new year',\n",
       " 'masuk banten anies ubah reklamasi kawasan pantai pulau c g ubah nama pantai maju pantai pantai wilayah tata ruang pulau masuk jakarta utara',\n",
       " 'program pasang capres cawapres ganjar pranowo mahfud md dorong tumbuh ekonomi rata desa',\n",
       " 'ganjar pranowo mahfud md pimpin rakyat dorong tumbuh ekonomi rata ganjar mahfud hebat',\n",
       " 'anies org ajar paham arti pribumi sengaja riding the wave',\n",
       " 'kecewa lihat perintah daerah paham atur konstitusi dukung anies',\n",
       " 'pangan energi air pilar utama mandiri daulat negara indonesia kaya alam limpah milik potensi besar capai mandiri memliki strategi kelola sda manfaat maksimal masyarakat dorong negara mandiri',\n",
       " 'goganjargo ganjar optimis capai tumbuh ekonomi ganjar ganjar mahfud hebat',\n",
       " 'top statement top juragan closing statement ganjar rasional komitmen kuat tahan cyber tingkat anggar pdb dorong aparat prajurit keluarga sampau beasiswa kuliah anak indonesia garda sumudra we are growth',\n",
       " 'anies rocked anggar limpah tri tahan kena hack tentara rumah menteri lahan ratus ribu hektar ironi',\n",
       " 'ganjar optimis capai tumbuh ekonomi ganjar ganjar mahfud hebat perempuan maju',\n",
       " 'ganjarmahfud bangun fondasi kokoh tumbuh ekonomi bahagia new year',\n",
       " 'internet cepat dukung aman siber calon presiden capres nomor urut ganjar pranowo butuh internet cepat kait aman siber ganjar aman siber butuh kuat badan siber sandi negara bssn sistem aman bangun sdm cepat internet coveragenya sistem bagus korupsi ganjar top juragan',\n",
       " 'food estate ga prabowo dukung maksimal tani ngpain bkin food estate dana kasih tani subsidi hasil beli jual murah rakyat',\n",
       " 'program sehat anak prioritas ganjar pranowo prof mahfud jamin keluarga fondasi',\n",
       " 'anies cerita alam jabat cerita alam menhan bilang',\n",
       " 'dukung habis kerja masbowogbran pasti kerjain investasi nusantara benefitnya negeri sejahtera karenahati baikpakbowo',\n",
       " 'debatprabowo kuasa materi nyaapalgi mdaalah tahan hbitat diasesudah debatprabowo dikeroyokdgn cra iniblah lahelo kirain cpres bodoh disampikan paslon sebahagian aspirasi rakyataplgi msaalh etika',\n",
       " 'surat buka hati nurani akun akun dukung tolong bantu sebar hati nurani selamat rekan akun dukung prabowo gibran hati nurani rekan tolong biar hati nurani rekan jujur rekan gibran maju cawapres landas atur situasi kondisi sarat langgar etik hati nurani mu ganggu rekan gibran daftar revisi batas usia pkpu gibran daftar hati nurani mu ganggu rekan uu ikn wenang besar eksekutif menerabas atur apa prabowo gibran dukung hati nurani mu ganggu rekan prabowo periksa kait langgar ham lampau rekan suka cita isu akan isu tahun giat kamis aksi nyata hati nurani mu ganggu rekan proses gibran maju walikota solo proses instan ambil form bacawalkot sama ambil form anggota pdip hati nurani mu ganggu rekan tinggal jakarta cfd giat bebas giat politik gibran santai susu hati nurani mu ganggu rekan prabowo emosional debat capres gibran debat capres gesture provokatif dukung lawan hati nurani mu ganggu rekan nama miftah bagi uang sama prabowo gibran hati nurani mu ganggu rekan prabowo kasar provokatif massa acara tutup buka hati nurani mu ganggu rekan bansos ada uang negara klaim menteri sembari prabowo gibran hati nurani mu ganggu rekan presiden bicara kpu bicara kemenhan bicara paslon gercep isu kait prabowo gibran hati nurani mu ganggu rekan presiden tedeng aling sikap dukung hati nurani mu ganggu rekan prabowo usaha kelas kakap tanah kuasa luas rekan tuding orang oligark usaha hati nurani mu ganggu rekan fasilitas negara penting pribadi prabowo menerabas atur malu hati nurani mu ganggu rekan akun terang an hujat prabowo gibran balik puja dua hati nurani mu ganggu sepak terjang duo manusia prabowo gibran penting bangsa negara tuju capai menerabas atur hati nurani mu ganggu tantang hati nurani rekan dukung surat buka nilai kapasitas hati nurani rekan dukung rekan berani hati nurani rekan',\n",
       " 'program pasang capres cawapres ganjar pranowo mahfud md desa presisi investasi ekonomi kuat daya saing',\n",
       " 'program pasang capres cawapres ganjar pranowo mahfud md solusi jitu dorong tumbuh ekonomi desa',\n",
       " 'coba simak prabowo dasar ambisi datadata manipulasi prabowo bicara dasar penting indonesia orang pimpin indonesia',\n",
       " 'cawapres nomor urut mahfud md langgar etik oknum satpol pulang pergi dukung salah paslon buka download play store app store',\n",
       " 'percaya ganjarmahfud investasi riset inovasi tumbuh jangka bahagia new year',\n",
       " 'sepakat masbowogbran pasti ingat wisudawan masyarakat hindar ajak percaya ajar keras karenahati baikpakbowo',\n",
       " 'ganjar semangat layan peduli pilar maju satu jawa',\n",
       " 'capres ganjar pranowo tempat psikolog puskesmas sistem sehat nasional dampak positif tingkat mental masyarakat indonesia',\n",
       " 'ganjarmahfud milik rencana konkrit entas miskin desa bahagia new year',\n",
       " 'anies copot menteri didik gagal simpang anggar tunjang profesi gurukalo gemoy pecat tni krna',\n",
       " 'kurang korupsi jabat negara pilih',\n",
       " 'momen manis indonesia ganjarmahfud pimpin paham jaga satu ragam negeri negeri tas tes',\n",
       " 'calon presiden capres nomor urut anies baswedan anggap stunting polemik krusial selesai indonesia anies gagas atas kurang gizi indikator sehat penuh daerah atas stunting dilih presiden sistem bupati wali kota gubernur sehat penuh wilayah masingmasing acara desak anies edisi tenaga sehat nakes half patiunus jakarta selatan simak berita lengkap',\n",
       " 'rembuganjar nelayan kabupaten rembang ganjar pranowo tampung aspirasi nelayan solusi kait sulit alami nelayan akses bantu perintah',\n",
       " 'nyalon langgar etika nyalon tuduh ambisi anies qjika',\n",
       " 'kubu prabowo buka wacana impor juta sapi perah india',\n",
       " 'ganjar pranowo pimpin fokus rakyat ekonomi inklusif bahagia new year',\n",
       " 'program pasang capres cawapres ganjar pranowo mahfud md dorong tumbuh ekonomi rata desa',\n",
       " 'toleransi pondasi utama bangsa indonesia menteri bumn erick thohir anggap menhan prabowo subianto jaga harmonisasi umat agama indonesia',\n",
       " 'anies investasi tarik',\n",
       " 'usia anies rb beda usia gibran bobby giring kaesang kualitas mampu intelektual muda beda wacapres mutu nepo boy nir etika orbit karbitan no capability',\n",
       " 'rahasia negara nyimpannya alutsista beli broker pelaksannya kejar debat tmi agrinas indikasi korupsi usaha tenggara bikin',\n",
       " 'saudara nkri masbowogbran pasti utara orang tegak benteng pancasila karenahati baikpakbowo',\n",
       " 'pilih kepala daerah dki ahok kalah anies gubernur',\n",
       " 'ganjarmahfud desa milik peran tumbuh ekonomi bahagia new year',\n",
       " 'ganjarmahfud pimpin indonesia milik anggar riset inovasi kuat capai pdb bahagia new year',\n",
       " 'ganjar pranowo mahfud md pimpin rakyat dorong tumbuh ekonomi rata ganjar mahfud hebat uang saku posyandu',\n",
       " 'ganjar kejut hasil poinpoinnya sadar aman siber mef penuh anggar tahan naik tidak prioritas alutsista angkat laut dasar indonesia negara maritim besar testimoni langsung user alutsista bekas limpah bagus tahan wujud hasil menang',\n",
       " 'kontrak buka ganjar pranowo undang ambil cipta daulat pangan',\n",
       " 'maju ganjarmahfud putus dukung umkm masuk ekatalog perintah bawa ubah positif ekonomi rakyat bahagia new year',\n",
       " 'prabowo sindir anies bicara tahan ambisi mengebugebu objektif',\n",
       " 'program sehat anak prioritas ganjar pranowo prof mahfud jamin keluarga fondasi',\n",
       " 'langgar berat apk pelangaran berat etik langgar berat ham baliho tutup icon kota batam beruasa atur langgar indonesia harap hallo siap alas cebokin anak majikan',\n",
       " 'bijak insentif pajak bantu tumbuh bisnis startup indonesia terima kasih ganjarmahfud bahagia new year',\n",
       " 'adu anies terisakisak nb warga kampung bayam sulit pj gubernur dki',\n",
       " 'jenguk rawan korban aniaya oknum tni cerita main hakim calon presiden nomor urut ganjar pranowo jenguk korban duga aniaya oknum anggota tni rawat rumah sakit daerah rsud pandan arang boyolali jawa malam ganjar rumah sakit wib mantan gubernur jawa damping istri siti atikoh ganjar pranowo datang ganjar rombong sambut direktur rsud pandan arang boyolali fx kristandyoko ganjar ruang mpu bharada lantai gedung merbabu ganjar masuk kamar korban nomor ganjar atikoh wakil masuk kamar korban nomor ganjar masuk kamar korban nomor atikoh masuk damping suami atikoh menitihkan air mata kamar wib ganjar kamar korban nomor wartawan ganjar tujuh rawan duga aniaya oknum anggota tni korban jalan rawat inap rumah sakit tujuh anak rawat tidur ajak bicara hasil periksa dokter baik bagus gagar otak tulang bagus otak bagus patah gigi ganjar rsud pandan arang boyolali malam ganjar aku dengar cerita salah korban korban jadi duga aniaya henti lampu merah korban pukul jelas rasarasanya adil biar teng blasur manamana',\n",
       " 'enak bikin jadwal desak anies gedung milik perintah luar sabtuminggu framing drama terzholimi cawapresnya darat enak udel bikin negara atur',\n",
       " 'tiga capres anies bicara model tahan diplomasi main central global rencana beli alutsista orientasi sesuai butuh',\n",
       " 'keren ganjarmahfud niat merregulasi platform digital lokal penting nasional bahagia new year',\n",
       " 'keren habis ganjarmahfud bikin bijak profesional aph sat set bhayangkara',\n",
       " 'tema ramai anggar alutsista anggar tahan alutsista bekas tim substansi siap taktis efisien menit argumentasi data gak nampak tim',\n",
       " 'hebat pasang capres cawapres ganjar pranowo mahfud md buka pintu sukses kredit koprasi umkm semangat laku bisnis lokal nct wish',\n",
       " 'duga istruksi sistematis cabut izin giat anies daerah',\n",
       " 'ganjar pranowo bijak politik negeri perisai penting nasional ganjar kuat diplomasi indonesia redefinisi politik bebas aktif situasi kini tekad jadi benteng tahan nusantara satu kokoh ganjar pranowo tekan reformasi polisi prioritas utama diplomasi adaptif hingga teknologi tahan rancang visi progresif tuntut zaman',\n",
       " 'palestine gaza militer mental kuat bangun gerak lawan tindas genosida mohon paham ajar biar debat capres ga blunder',\n",
       " 'sepakat masbowogbran pasti wisudawan rakyat hindar ajak ajar radikal karenahati baikpakbowo',\n",
       " 'dukung ganjarmahfud komitmen garda samudra libat diplomasi maritim bawa manfaat konkret',\n",
       " 'ganjarmahfud desadesa tumbuh ekonomi nasional bahagia new year',\n",
       " 'tahu mantan pangkostrad kemhan tahan aman hubung geopolitik kalah mantan anggota dpr ri periode mantan gubernur jateng periode ganjar pranowo',\n",
       " 'capres nomor urut prabowo subianto penuh diskusi satu wartawan indonesia pwi jakarta pusat diskusi prabowo aku kecam program susu gratis menang pilpres aku program susu gratis cap asing usaha susu langsung sapi kemas susu sehat susu tentunua langsung sapi banyak awet gula prabowo prabowo lantas wacana impor juta sapi india penuh butuh susu negeri sapi india kembang ternak lokal suai butuh masyarakat simak berita lengkap',\n",
       " 'kabar bisnis tambang batubaranya',\n",
       " 'gempar edar pidato ancam prabowo media ngeri ancam bebas pers media jurnalis terap siaga',\n",
       " 'ganjarmahfud kotakota pusat tumbuh tarik investasi lapang kerja bahagia new year',\n",
       " 'tema tema prabowo tahan tema utama menhan kerja minimal garis besar mala alas',\n",
       " 'prabowo diplomasi iklim aktif lindung lingkung',\n",
       " 'putus ganjar mahfud bantu nelayan bebas utang dorong besar capai',\n",
       " 'pilpres tuduh ambisi anies baswedan ambil cawapres langgar etik berat dasar putus mkmk eh tuduh etika anies baswedan model tangis',\n",
       " 'pasang capres cawapres ganjar pranowo mahfud md inspirasi laku umkm kredit langkah cerdas sukses temanteman bisnis nct wish',\n",
       " 'janji ganjar dengar aspirasi tani warga blora tambah nilai subsidi pupuk hapus kredit macet tani capai rp miliar',\n",
       " 'efisiensi pagu anggar kunci investasi riset inovasi ganjarmahfud paham bahagia new year',\n",
       " 'anies cyber security masuk sektor tahan poin bagus anies kalang militer luas tahan siber ancam nyata tni bentuk satsiber singgung naik anggar tahan bagus sadar hal counter cawapresnya',\n",
       " 'genz bodoh akibat baca megawati jual nama bapak nama bapak ga kuliah kena represi suharto prabowo nyapres jokowi presiden ga andil reformasi megawati ikhlas',\n",
       " 'terobos ganjarmahfud cegah kkn digitalisasi sistem uang langkah nilai kontrol hemat keluar uang negara ebudgeting eplanning transaksi birokrasi wajib tunai',\n",
       " 'rencana ganjarmahfud bonus demografi visi matang pacu tumbuh ekonomi sumber daya manusia produktif bahagia new year',\n",
       " 'dukung anis imin ganjar noh bagus ga jatuh tangan singapore jatuh negara asing tanah salahin perintah',\n",
       " 'etika konstitusi negara etika anies elegan ambisi cawapresnya',\n",
       " 'aman data jaga ganjarmahfud keren sat set',\n",
       " 'anies pribadi wowo gagal wowo pimpin urus bidang tahan negara diataranya indeks tahan buruk tni amp proyek food state gatot paham',\n",
       " 'aduh wan abud prabowo belanja alutsista hemat loh katakatamu penasaran bebas ptn top menhan nyebokin nangisin bodoh pt tmi',\n",
       " 'anggar unt beli alutsita bekas t ga erti substansi anies anggar tahan t lha bobol',\n",
       " 'puncak komedi menteri tahan nilai jelek mantan menteri pecat jaman anies menteri gaji guru sekolah ambruk susah tukang obat jago debat tolong anies jepit',\n",
       " 'sisa polarisasi loyalis jokowi loyalis prabowo gabung sebentar antijokowi antiprabowo koalisi lucu dasar pilih dasar anti a b acu layak jago',\n",
       " 'bikin bangga deh ganjarmahfud alokasi belanja perintah bumn koperasi umkm moga laksana bahagia new year',\n",
       " 'biasa rembuk gaya pimpin ganjar gubernur jateng gass lanjut bantu tani nelayan hapus kredit macet']"
      ]
     },
     "execution_count": 364,
     "metadata": {},
     "output_type": "execute_result"
    }
   ],
   "source": [
    "# Step 1: Split the text into lines\n",
    "list(X_test2)"
   ]
  },
  {
   "cell_type": "code",
   "execution_count": 365,
   "id": "ff7fdc85-7b5b-43bc-bbba-2f603c4cc281",
   "metadata": {},
   "outputs": [
    {
     "data": {
      "text/plain": [
       "2      kikidaliyo ganjar pranowo sosok mengagunhkan n...\n",
       "4      gak nyambung junjung aomkmkmkmk bicara etika n...\n",
       "5      nelayan jebak kredit macet ganjar pranowo mahf...\n",
       "9      ganjarmahfud harap tumbuh ekonomi bahagia new ...\n",
       "10     ganjar lipat anis anis nilai wo pancing anis k...\n",
       "                             ...                        \n",
       "986    anggar unt beli alutsita bekas t ga erti subst...\n",
       "987    puncak komedi menteri tahan nilai jelek mantan...\n",
       "992    sisa polarisasi loyalis jokowi loyalis prabowo...\n",
       "995    bikin bangga deh ganjarmahfud alokasi belanja ...\n",
       "998    biasa rembuk gaya pimpin ganjar gubernur jaten...\n",
       "Name: c_text3, Length: 364, dtype: object"
      ]
     },
     "execution_count": 365,
     "metadata": {},
     "output_type": "execute_result"
    }
   ],
   "source": [
    "X_test2"
   ]
  },
  {
   "cell_type": "code",
   "execution_count": 366,
   "id": "1jJDII7XSmfb",
   "metadata": {
    "id": "1jJDII7XSmfb"
   },
   "outputs": [
    {
     "name": "stderr",
     "output_type": "stream",
     "text": [
      "100%|██████████████████████████████████████████████████████████████████████████████| 364/364 [00:00<00:00, 1785.98it/s]\n"
     ]
    }
   ],
   "source": [
    "from transformers import DistilBertTokenizer\n",
    "import torch\n",
    "\n",
    "model_name = \"cahya/distilbert-base-indonesian\"\n",
    "device = torch.device(\"cuda\" if torch.cuda.is_available() else \"cpu\")\n",
    "tokenizer = DistilBertTokenizer.from_pretrained(model_name)\n",
    "\n",
    "X_test_ids, X_test_masks = tokenize(X_test2, tokenizer, MAX_LENGTH)"
   ]
  },
  {
   "cell_type": "code",
   "execution_count": 367,
   "id": "52158249-2228-4b07-b377-d35ad110a028",
   "metadata": {},
   "outputs": [],
   "source": [
    "y_test2 = model.predict([X_test_ids, X_test_masks])\n",
    "predicted_labels = np.argmax(y_test2, axis=1)\n"
   ]
  },
  {
   "cell_type": "code",
   "execution_count": 368,
   "id": "0af14c1d-e94c-4889-883f-7e917110938f",
   "metadata": {},
   "outputs": [
    {
     "data": {
      "text/plain": [
       "array([3, 5, 1, 1, 2, 5, 3, 1, 0, 1, 2, 1, 0, 6, 1, 3, 1, 1, 1, 1, 1, 1,\n",
       "       4, 1, 4, 1, 1, 4, 4, 4, 1, 0, 4, 1, 3, 1, 4, 4, 2, 3, 2, 5, 1, 1,\n",
       "       4, 5, 6, 4, 0, 1, 2, 5, 3, 4, 5, 1, 1, 4, 5, 1, 6, 1, 1, 1, 3, 4,\n",
       "       4, 6, 3, 4, 1, 6, 4, 1, 0, 0, 4, 1, 1, 4, 3, 6, 1, 4, 1, 1, 4, 1,\n",
       "       5, 4, 1, 4, 4, 4, 4, 3, 4, 1, 5, 1, 4, 1, 5, 4, 1, 3, 3, 0, 6, 1,\n",
       "       1, 1, 1, 1, 4, 4, 1, 4, 5, 3, 4, 0, 1, 3, 3, 1, 1, 1, 1, 1, 3, 3,\n",
       "       4, 1, 4, 1, 4, 1, 0, 2, 1, 4, 0, 4, 1, 4, 2, 1, 1, 4, 4, 4, 4, 1,\n",
       "       1, 1, 1, 1, 3, 6, 3, 6, 4, 1, 6, 1, 5, 2, 6, 1, 6, 1, 5, 1, 1, 5,\n",
       "       4, 1, 3, 1, 3, 5, 5, 4, 1, 3, 4, 1, 1, 1, 4, 1, 4, 1, 3, 3, 1, 5,\n",
       "       1, 1, 4, 1, 0, 4, 6, 3, 4, 2, 1, 1, 0, 4, 5, 1, 6, 1, 1, 4, 1, 3,\n",
       "       1, 4, 1, 1, 1, 1, 1, 6, 5, 1, 4, 1, 3, 2, 4, 4, 5, 6, 6, 4, 4, 1,\n",
       "       3, 4, 1, 1, 2, 4, 1, 5, 4, 4, 4, 1, 6, 3, 0, 1, 3, 2, 1, 6, 5, 1,\n",
       "       4, 4, 6, 3, 1, 2, 3, 1, 2, 1, 1, 5, 3, 1, 1, 4, 4, 1, 1, 4, 1, 3,\n",
       "       5, 1, 3, 3, 1, 1, 3, 4, 1, 0, 3, 3, 1, 4, 3, 4, 3, 6, 5, 1, 1, 1,\n",
       "       3, 6, 0, 4, 0, 2, 1, 4, 1, 4, 6, 1, 4, 3, 4, 1, 5, 3, 3, 4, 1, 4,\n",
       "       4, 1, 5, 4, 4, 3, 4, 1, 4, 1, 6, 4, 1, 4, 6, 1, 3, 1, 1, 1, 4, 0,\n",
       "       1, 1, 4, 3, 4, 4, 4, 4, 6, 3, 1, 6], dtype=int64)"
      ]
     },
     "execution_count": 368,
     "metadata": {},
     "output_type": "execute_result"
    }
   ],
   "source": [
    "predicted_labels"
   ]
  },
  {
   "cell_type": "code",
   "execution_count": 369,
   "id": "c97a9c28-50b2-42aa-8d64-7356a5fb96d3",
   "metadata": {},
   "outputs": [],
   "source": [
    "string_labels = [list(label_dict.keys())[list(label_dict.values()).index(label)] for label in predicted_labels]\n"
   ]
  },
  {
   "cell_type": "code",
   "execution_count": 370,
   "id": "6966ab5f-e817-497c-a3d8-c0d3867b9495",
   "metadata": {},
   "outputs": [],
   "source": [
    "ispol_filtered[\"LabelPol\"] = string_labels"
   ]
  },
  {
   "cell_type": "code",
   "execution_count": 371,
   "id": "3aa3ee66-c555-42fe-865a-910f68823425",
   "metadata": {
    "scrolled": true
   },
   "outputs": [
    {
     "data": {
      "text/plain": [
       "(364, 6)"
      ]
     },
     "execution_count": 371,
     "metadata": {},
     "output_type": "execute_result"
    }
   ],
   "source": [
    "ispol_filtered.shape"
   ]
  },
  {
   "cell_type": "code",
   "execution_count": 372,
   "id": "a927e43d-790d-4172-8027-6ff70e128d1f",
   "metadata": {
    "scrolled": true
   },
   "outputs": [],
   "source": [
    "df_test1= df_test.drop(df_test[df_test[\"LabelPol\"] == \"NonP\"].index)"
   ]
  },
  {
   "cell_type": "code",
   "execution_count": 373,
   "id": "b4e3b5f8-f991-455a-bef2-f500ebe0ae2a",
   "metadata": {
    "scrolled": true
   },
   "outputs": [
    {
     "data": {
      "text/plain": [
       "(636, 6)"
      ]
     },
     "execution_count": 373,
     "metadata": {},
     "output_type": "execute_result"
    }
   ],
   "source": [
    "df_test1.shape"
   ]
  },
  {
   "cell_type": "code",
   "execution_count": 374,
   "id": "c0417e1a-e4e4-449a-927e-49de14f74c4f",
   "metadata": {},
   "outputs": [],
   "source": [
    "hasil = pd.concat([df_test1,ispol_filtered], axis =0)"
   ]
  },
  {
   "cell_type": "code",
   "execution_count": 375,
   "id": "60f70382-ba4a-4b39-9685-c66454b005ea",
   "metadata": {},
   "outputs": [],
   "source": [
    "hasil.sort_values(by=[\"IDText\"], inplace = True)"
   ]
  },
  {
   "cell_type": "code",
   "execution_count": 377,
   "id": "443a93a2-07cb-4428-9674-9cf6968778e0",
   "metadata": {},
   "outputs": [],
   "source": [
    "jawaban = hasil[[\"IDText\",\"LabelPol\"]]\n",
    "jawaban.rename(columns={\"IDText\":\"IDText\",\"LabelPol\":\"Kelas\"}, inplace = True)\n",
    "jawaban\n",
    "jawaban.to_csv(\"C:/Users/andre/Downloads/SD2024040000377.csv\",sep=\",\",index=False)"
   ]
  }
 ],
 "metadata": {
  "accelerator": "GPU",
  "colab": {
   "gpuType": "T4",
   "machine_shape": "hm",
   "provenance": []
  },
  "kernelspec": {
   "display_name": "Python (GPU)",
   "language": "python",
   "name": "test_env_gpu"
  },
  "language_info": {
   "codemirror_mode": {
    "name": "ipython",
    "version": 3
   },
   "file_extension": ".py",
   "mimetype": "text/x-python",
   "name": "python",
   "nbconvert_exporter": "python",
   "pygments_lexer": "ipython3",
   "version": "3.9.18"
  }
 },
 "nbformat": 4,
 "nbformat_minor": 5
}
